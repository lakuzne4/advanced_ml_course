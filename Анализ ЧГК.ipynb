{
 "cells": [
  {
   "cell_type": "code",
   "execution_count": 1,
   "metadata": {
    "ExecuteTime": {
     "end_time": "2021-04-10T18:12:52.005988Z",
     "start_time": "2021-04-10T18:12:51.261976Z"
    }
   },
   "outputs": [],
   "source": [
    "import pandas as pd\n",
    "import numpy as np\n",
    "import matplotlib.pyplot as plt\n",
    "import pickle\n",
    "import re\n",
    "\n",
    "from collections import namedtuple, Counter\n",
    "from tqdm import tqdm\n",
    "from sklearn.linear_model import LogisticRegression"
   ]
  },
  {
   "cell_type": "markdown",
   "metadata": {
    "heading_collapsed": true
   },
   "source": [
    "## Посмотреть данные"
   ]
  },
  {
   "cell_type": "markdown",
   "metadata": {
    "heading_collapsed": true,
    "hidden": true
   },
   "source": [
    "### Посмотреть на игроков"
   ]
  },
  {
   "cell_type": "code",
   "execution_count": null,
   "metadata": {
    "ExecuteTime": {
     "end_time": "2021-04-07T07:23:18.514358Z",
     "start_time": "2021-04-07T07:23:17.991604Z"
    },
    "hidden": true
   },
   "outputs": [],
   "source": [
    "with open(\"players.pkl\", 'rb') as f:\n",
    "    players = pickle.load(f)"
   ]
  },
  {
   "cell_type": "code",
   "execution_count": null,
   "metadata": {
    "ExecuteTime": {
     "end_time": "2021-04-07T07:23:36.190069Z",
     "start_time": "2021-04-07T07:23:36.186080Z"
    },
    "hidden": true
   },
   "outputs": [],
   "source": [
    "# количество игроков\n",
    "print(len(players.keys()))"
   ]
  },
  {
   "cell_type": "code",
   "execution_count": null,
   "metadata": {
    "ExecuteTime": {
     "end_time": "2021-04-06T16:35:05.467208Z",
     "start_time": "2021-04-06T16:35:05.219872Z"
    },
    "hidden": true
   },
   "outputs": [],
   "source": [
    "with open(\"players.pkl\", 'rb') as f:\n",
    "    players = pickle.load(f)\n",
    "\n",
    "players[15]\n",
    "\n",
    "inner_keys = set()\n",
    "\n",
    "for key in players:\n",
    "    for inner_key in players[key].keys():\n",
    "        if inner_key not in inner_keys:\n",
    "            inner_keys.add(inner_key)"
   ]
  },
  {
   "cell_type": "code",
   "execution_count": null,
   "metadata": {
    "hidden": true
   },
   "outputs": [],
   "source": [
    "players_sample = np.random.choice(np.array(list(players.keys())), size=1000)"
   ]
  },
  {
   "cell_type": "markdown",
   "metadata": {
    "heading_collapsed": true,
    "hidden": true
   },
   "source": [
    "### Отобрать нужные записи и results"
   ]
  },
  {
   "cell_type": "code",
   "execution_count": null,
   "metadata": {
    "ExecuteTime": {
     "end_time": "2021-04-06T18:24:28.586522Z",
     "start_time": "2021-04-06T18:24:16.227574Z"
    },
    "hidden": true
   },
   "outputs": [],
   "source": [
    "%%time\n",
    "with open(\"results.pkl\", 'rb') as f:\n",
    "    results = pickle.load(f)"
   ]
  },
  {
   "cell_type": "code",
   "execution_count": null,
   "metadata": {
    "ExecuteTime": {
     "end_time": "2021-04-06T18:25:23.507506Z",
     "start_time": "2021-04-06T18:25:23.478584Z"
    },
    "hidden": true
   },
   "outputs": [],
   "source": [
    "%%time\n",
    "results_needed = {}\n",
    "\n",
    "for key, lst in results.items():\n",
    "    for lst_el in lst:\n",
    "        if 'mask' in lst_el and lst_el['mask'] is not None \\\n",
    "                and 'teamMembers' in lst_el and lst_el['teamMembers']:\n",
    "            results_needed[key] = lst\n",
    "            break"
   ]
  },
  {
   "cell_type": "code",
   "execution_count": null,
   "metadata": {
    "ExecuteTime": {
     "end_time": "2021-04-06T18:27:04.645316Z",
     "start_time": "2021-04-06T18:27:04.640362Z"
    },
    "hidden": true
   },
   "outputs": [],
   "source": [
    "len(results.keys())"
   ]
  },
  {
   "cell_type": "code",
   "execution_count": null,
   "metadata": {
    "ExecuteTime": {
     "end_time": "2021-04-06T18:28:45.373187Z",
     "start_time": "2021-04-06T18:28:45.368238Z"
    },
    "hidden": true
   },
   "outputs": [],
   "source": [
    "len(results_needed.keys())"
   ]
  },
  {
   "cell_type": "code",
   "execution_count": null,
   "metadata": {
    "ExecuteTime": {
     "end_time": "2021-04-06T18:30:37.624406Z",
     "start_time": "2021-04-06T18:30:26.559918Z"
    },
    "hidden": true
   },
   "outputs": [],
   "source": [
    "with open(\"results_needed.pkl\", 'wb') as f:\n",
    "    pickle.dump(results_needed, f)"
   ]
  },
  {
   "cell_type": "code",
   "execution_count": null,
   "metadata": {
    "ExecuteTime": {
     "end_time": "2021-04-06T18:32:16.895598Z",
     "start_time": "2021-04-06T18:32:14.705454Z"
    },
    "hidden": true
   },
   "outputs": [],
   "source": [
    "%%time\n",
    "del results\n",
    "del results_needed"
   ]
  },
  {
   "cell_type": "code",
   "execution_count": null,
   "metadata": {
    "ExecuteTime": {
     "end_time": "2021-04-06T17:52:40.443997Z",
     "start_time": "2021-04-06T17:52:29.290803Z"
    },
    "hidden": true
   },
   "outputs": [],
   "source": [
    "%%time\n",
    "with open(\"results_needed.pkl\", 'rb') as f:\n",
    "    results = pickle.load(f)"
   ]
  },
  {
   "cell_type": "markdown",
   "metadata": {
    "heading_collapsed": true,
    "hidden": true
   },
   "source": [
    "### Посчитать число записей с первичным ключём <br> турнир - команда - игрок - вопрос"
   ]
  },
  {
   "cell_type": "code",
   "execution_count": null,
   "metadata": {
    "ExecuteTime": {
     "end_time": "2021-04-06T18:46:57.953925Z",
     "start_time": "2021-04-06T18:46:57.875999Z"
    },
    "hidden": true
   },
   "outputs": [],
   "source": [
    "%%time\n",
    "with open(\"tournaments.pkl\", 'rb') as f:\n",
    "    tournaments = pickle.load(f)"
   ]
  },
  {
   "cell_type": "code",
   "execution_count": null,
   "metadata": {
    "ExecuteTime": {
     "end_time": "2021-04-06T18:47:20.983814Z",
     "start_time": "2021-04-06T18:47:20.978827Z"
    },
    "hidden": true
   },
   "outputs": [],
   "source": [
    "len(tournaments.keys())"
   ]
  },
  {
   "cell_type": "code",
   "execution_count": null,
   "metadata": {
    "hidden": true
   },
   "outputs": [],
   "source": [
    "3656 * "
   ]
  },
  {
   "cell_type": "code",
   "execution_count": null,
   "metadata": {
    "ExecuteTime": {
     "end_time": "2021-04-06T18:55:04.851958Z",
     "start_time": "2021-04-06T18:54:55.433115Z"
    },
    "hidden": true
   },
   "outputs": [],
   "source": [
    "%%time\n",
    "with open(\"results_needed.pkl\", 'rb') as f:\n",
    "    results = pickle.load(f)"
   ]
  },
  {
   "cell_type": "code",
   "execution_count": null,
   "metadata": {
    "ExecuteTime": {
     "end_time": "2021-04-06T18:55:54.608028Z",
     "start_time": "2021-04-06T18:55:54.256965Z"
    },
    "hidden": true
   },
   "outputs": [],
   "source": [
    "%%time\n",
    "cnt_records = []\n",
    "for tournament_id, lst in results.items():\n",
    "    if lst is not None:\n",
    "        for team_id, lst_el in enumerate(lst):\n",
    "            if lst_el['teamMembers'] is not None and lst_el['mask'] is not None:\n",
    "                to_add = (tournament_id, team_id, len(lst_el['teamMembers']), len(lst_el['mask']))\n",
    "                cnt_records.append(to_add)"
   ]
  },
  {
   "cell_type": "code",
   "execution_count": null,
   "metadata": {
    "ExecuteTime": {
     "end_time": "2021-04-06T18:56:46.354607Z",
     "start_time": "2021-04-06T18:56:44.748933Z"
    },
    "hidden": true
   },
   "outputs": [],
   "source": [
    "del results"
   ]
  },
  {
   "cell_type": "code",
   "execution_count": null,
   "metadata": {
    "ExecuteTime": {
     "end_time": "2021-04-06T18:57:54.369224Z",
     "start_time": "2021-04-06T18:57:54.315248Z"
    },
    "hidden": true
   },
   "outputs": [],
   "source": [
    "sum([i[2] * i[3] for i in cnt_records])"
   ]
  },
  {
   "cell_type": "code",
   "execution_count": null,
   "metadata": {
    "ExecuteTime": {
     "end_time": "2021-04-07T07:08:10.953339Z",
     "start_time": "2021-04-07T07:08:10.917436Z"
    },
    "hidden": true
   },
   "outputs": [],
   "source": [
    "# только по командам x турнир x число вопросов\n",
    "sum([i[3] for i in cnt_records])"
   ]
  },
  {
   "cell_type": "code",
   "execution_count": null,
   "metadata": {
    "ExecuteTime": {
     "end_time": "2021-04-07T07:22:51.686206Z",
     "start_time": "2021-04-07T07:22:51.649305Z"
    },
    "hidden": true
   },
   "outputs": [],
   "source": [
    "sum([i[2] for i in cnt_records])"
   ]
  },
  {
   "cell_type": "markdown",
   "metadata": {
    "heading_collapsed": true,
    "hidden": true
   },
   "source": [
    "### Разделить на train/test"
   ]
  },
  {
   "cell_type": "code",
   "execution_count": null,
   "metadata": {
    "ExecuteTime": {
     "end_time": "2021-04-07T15:58:24.215009Z",
     "start_time": "2021-04-07T15:58:24.116269Z"
    },
    "hidden": true
   },
   "outputs": [],
   "source": [
    "# определить стартовые даты турниров\n",
    "# tournaments = set([i.tournament_id for i in plays])\n",
    "\n",
    "with open(\"tournaments.pkl\", 'rb') as f:\n",
    "    tournaments_data = pickle.load(f)\n",
    "\n",
    "tournaments_data = {key: value for key, value in tournaments_data.items() } # if key in tournaments}\n",
    "\n",
    "tournaments_start_dates = {key: value['dateStart'] for key, value in tournaments_data.items()}\n",
    "\n",
    "del tournaments_data"
   ]
  },
  {
   "cell_type": "code",
   "execution_count": null,
   "metadata": {
    "ExecuteTime": {
     "end_time": "2021-04-07T15:58:42.329186Z",
     "start_time": "2021-04-07T15:58:24.990936Z"
    },
    "hidden": true
   },
   "outputs": [],
   "source": [
    "%%time\n",
    "with open(\"results_needed.pkl\", 'rb') as f:\n",
    "    results = pickle.load(f)"
   ]
  },
  {
   "cell_type": "code",
   "execution_count": null,
   "metadata": {
    "ExecuteTime": {
     "end_time": "2021-04-07T16:00:09.542992Z",
     "start_time": "2021-04-07T16:00:09.539955Z"
    },
    "hidden": true
   },
   "outputs": [],
   "source": [
    "# players_sample_set = set(players_sample)"
   ]
  },
  {
   "cell_type": "code",
   "execution_count": null,
   "metadata": {
    "ExecuteTime": {
     "end_time": "2021-04-07T16:07:35.845156Z",
     "start_time": "2021-04-07T16:06:21.632908Z"
    },
    "hidden": true
   },
   "outputs": [],
   "source": [
    "%%time\n",
    "# собрать данные за 2019 год для train и за 2020 за тест по всем игрока\n",
    "Records = namedtuple(\"Records\", (\"tournament_id\", \"t_start_date\", \"team_ind\", \"team_id\", \"players\", \"mask\"))\n",
    "\n",
    "plays_train = []\n",
    "plays_test = []\n",
    "for tournament_id, lst in results.items():\n",
    "    if lst is not None:\n",
    "        for team_ind, lst_el in enumerate(lst):\n",
    "            if lst_el['teamMembers'] is not None and lst_el['mask'] is not None:\n",
    "                # to_add = (tournament_id, team_id, len(lst_el['teamMembers']), len(lst_el['mask']))\n",
    "                \n",
    "                team_members = lst_el['teamMembers']\n",
    "                players = [i['player']['id'] for i in team_members]\n",
    "                team_id = lst_el['team']['id']\n",
    "                mask = lst_el['mask']\n",
    "                start_date = tournaments_start_dates[tournament_id]\n",
    "                \n",
    "                if pd.to_datetime(start_date).year == 2019:\n",
    "                            # and any([i in players_sample_set for i in players]):\n",
    "                    plays_train.append(Records(tournament_id=tournament_id, \n",
    "                                         t_start_date=start_date,\n",
    "                                         team_ind=team_ind, \n",
    "                                         team_id=team_id, \n",
    "                                         players=players, \n",
    "                                         mask=mask\n",
    "                                        )\n",
    "                                )\n",
    "                elif pd.to_datetime(start_date).year == 2020:\n",
    "                    plays_test.append(Records(tournament_id=tournament_id, \n",
    "                                         t_start_date=start_date,\n",
    "                                         team_ind=team_ind, \n",
    "                                         team_id=team_id, \n",
    "                                         players=players, \n",
    "                                         mask=mask\n",
    "                                        )\n",
    "                                )                    "
   ]
  },
  {
   "cell_type": "code",
   "execution_count": null,
   "metadata": {
    "ExecuteTime": {
     "end_time": "2021-04-07T16:09:04.538924Z",
     "start_time": "2021-04-07T16:09:03.352100Z"
    },
    "hidden": true
   },
   "outputs": [],
   "source": [
    "del results"
   ]
  },
  {
   "cell_type": "code",
   "execution_count": null,
   "metadata": {
    "ExecuteTime": {
     "end_time": "2021-04-07T16:15:31.630278Z",
     "start_time": "2021-04-07T16:15:31.334915Z"
    },
    "hidden": true
   },
   "outputs": [],
   "source": [
    "with open(\"plays_train.pkl\", 'wb') as f:\n",
    "    pickle.dump(plays_train, f)\n",
    "    \n",
    "with open(\"plays_test.pkl\", 'wb') as f:\n",
    "    pickle.dump(plays_test, f)"
   ]
  },
  {
   "cell_type": "markdown",
   "metadata": {
    "heading_collapsed": true
   },
   "source": [
    "## Построить baseline-модель"
   ]
  },
  {
   "cell_type": "markdown",
   "metadata": {
    "hidden": true
   },
   "source": [
    "### Выбрать моменты для обучения модели"
   ]
  },
  {
   "cell_type": "code",
   "execution_count": null,
   "metadata": {
    "ExecuteTime": {
     "end_time": "2021-04-07T16:16:19.333297Z",
     "start_time": "2021-04-07T16:16:19.045068Z"
    },
    "hidden": true
   },
   "outputs": [],
   "source": [
    "%%time\n",
    "with open(\"plays_train.pkl\", 'rb') as f:\n",
    "    plays_train = pickle.load(f)\n",
    "    \n",
    "with open(\"plays_test.pkl\", 'rb') as f:\n",
    "    plays_test = pickle.load(f)"
   ]
  },
  {
   "cell_type": "code",
   "execution_count": null,
   "metadata": {
    "ExecuteTime": {
     "end_time": "2021-04-07T16:16:37.001136Z",
     "start_time": "2021-04-07T16:16:36.929278Z"
    },
    "hidden": true
   },
   "outputs": [],
   "source": [
    "# уникальных игроков в train\n",
    "len(set([j for i in plays_train for j in i.players]))"
   ]
  },
  {
   "cell_type": "code",
   "execution_count": null,
   "metadata": {
    "ExecuteTime": {
     "end_time": "2021-04-07T16:17:01.880373Z",
     "start_time": "2021-04-07T16:17:01.802562Z"
    },
    "hidden": true
   },
   "outputs": [],
   "source": [
    "# частота встречаемости игроков в турнирах\n",
    "frequencies_plays_of_players = Counter([j for i in plays_train for j in i.players]).values()"
   ]
  },
  {
   "cell_type": "code",
   "execution_count": null,
   "metadata": {
    "ExecuteTime": {
     "end_time": "2021-04-07T16:17:03.866474Z",
     "start_time": "2021-04-07T16:17:03.810460Z"
    },
    "hidden": true
   },
   "outputs": [],
   "source": [
    "# frequencies_plays_of_players := для каждого игрока - сколько раз он играл в 2019\n",
    "assert len(frequencies_plays_of_players) == len(set([j for i in plays_train for j in i.players]))"
   ]
  },
  {
   "cell_type": "code",
   "execution_count": null,
   "metadata": {
    "ExecuteTime": {
     "end_time": "2021-04-07T16:09:04.567850Z",
     "start_time": "2021-04-07T15:58:39.198Z"
    },
    "hidden": true
   },
   "outputs": [],
   "source": [
    "# число игроков с более чем 3мя турнирами\n",
    "sum(\n",
    "[num_players for counts, \n",
    "     num_players in sorted([(key, value) for key, value in Counter(frequencies_plays_of_players).items()])\n",
    "if counts >= 3\n",
    "])"
   ]
  },
  {
   "cell_type": "code",
   "execution_count": null,
   "metadata": {
    "ExecuteTime": {
     "end_time": "2021-04-07T16:17:56.610851Z",
     "start_time": "2021-04-07T16:17:54.985199Z"
    },
    "hidden": true
   },
   "outputs": [],
   "source": [
    "%%time\n",
    "train_df = pd.DataFrame(columns=['player', 'tournament_id', 't_start_date', 'team_id', 'mask'])\n",
    "to_concat = []\n",
    "for record in tqdm(plays_train):\n",
    "    for player in record.players:\n",
    "        to_append = np.array(\n",
    "            [\n",
    "            [player, \n",
    "             record.tournament_id, \n",
    "             record.t_start_date, \n",
    "             record.team_id, \n",
    "             record.mask]\n",
    "            ]\n",
    "        )\n",
    "        to_concat.append(to_append)\n",
    "        # train_df = train_df.append(to_append, sort=False, ignore_index=True)"
   ]
  },
  {
   "cell_type": "code",
   "execution_count": null,
   "metadata": {
    "hidden": true
   },
   "outputs": [],
   "source": []
  },
  {
   "cell_type": "code",
   "execution_count": null,
   "metadata": {
    "ExecuteTime": {
     "end_time": "2021-04-07T16:19:36.296276Z",
     "start_time": "2021-04-07T16:19:36.293267Z"
    },
    "hidden": true
   },
   "outputs": [],
   "source": [
    "len(to_concat)"
   ]
  },
  {
   "cell_type": "code",
   "execution_count": null,
   "metadata": {
    "ExecuteTime": {
     "end_time": "2021-04-07T16:21:18.292484Z",
     "start_time": "2021-04-07T16:21:15.736321Z"
    },
    "hidden": true
   },
   "outputs": [],
   "source": [
    "to_concat = np.vstack(to_concat)"
   ]
  },
  {
   "cell_type": "code",
   "execution_count": null,
   "metadata": {
    "ExecuteTime": {
     "end_time": "2021-04-07T15:10:42.985017Z",
     "start_time": "2021-04-07T15:09:57.172733Z"
    },
    "hidden": true
   },
   "outputs": [],
   "source": [
    "# %%time\n",
    "# with open(\"to_concat.pkl\", 'wb') as f:\n",
    "#     pickle.dump(to_concat, f)"
   ]
  },
  {
   "cell_type": "code",
   "execution_count": null,
   "metadata": {
    "ExecuteTime": {
     "end_time": "2021-04-07T15:15:22.359198Z",
     "start_time": "2021-04-07T15:13:11.382150Z"
    },
    "hidden": true
   },
   "outputs": [],
   "source": [
    "%%time\n",
    "with open(\"to_concat.pkl\", 'rb') as f:\n",
    "    to_concat = pickle.load(f)"
   ]
  },
  {
   "cell_type": "code",
   "execution_count": null,
   "metadata": {
    "ExecuteTime": {
     "end_time": "2021-04-07T16:37:19.807959Z",
     "start_time": "2021-04-07T16:37:18.592212Z"
    },
    "hidden": true
   },
   "outputs": [],
   "source": [
    "train_df = pd.DataFrame(to_concat, columns=['player', 'tournament_id', 't_start_date', 'team_id', 'mask'])"
   ]
  },
  {
   "cell_type": "code",
   "execution_count": null,
   "metadata": {
    "ExecuteTime": {
     "end_time": "2021-04-07T16:37:44.473151Z",
     "start_time": "2021-04-07T16:37:43.735961Z"
    },
    "hidden": true
   },
   "outputs": [],
   "source": [
    "train_df = train_df.sort_values(by='player')"
   ]
  },
  {
   "cell_type": "code",
   "execution_count": null,
   "metadata": {
    "ExecuteTime": {
     "end_time": "2021-04-07T16:38:43.207648Z",
     "start_time": "2021-04-07T16:38:40.912501Z"
    },
    "hidden": true
   },
   "outputs": [],
   "source": [
    "train_df.to_csv(\"train_df.csv\", index=False)"
   ]
  },
  {
   "cell_type": "code",
   "execution_count": null,
   "metadata": {
    "ExecuteTime": {
     "end_time": "2021-04-09T18:40:23.766446Z",
     "start_time": "2021-04-09T18:40:23.311663Z"
    },
    "hidden": true
   },
   "outputs": [],
   "source": [
    "%%time\n",
    "test_df = pd.DataFrame(columns=['player', 'tournament_id', 't_start_date', 'team_id', 'mask'])\n",
    "to_concat = []\n",
    "for record in tqdm(plays_test):\n",
    "    for player in record.players:\n",
    "        to_append = np.array(\n",
    "            [\n",
    "            [player, \n",
    "             record.tournament_id, \n",
    "             record.t_start_date, \n",
    "             record.team_id, \n",
    "             record.mask]\n",
    "            ]\n",
    "        )\n",
    "        to_concat.append(to_append)\n",
    "        # test_df = test_df.append(to_append, sort=False, ignore_index=True)"
   ]
  },
  {
   "cell_type": "code",
   "execution_count": null,
   "metadata": {
    "ExecuteTime": {
     "end_time": "2021-04-09T18:42:18.530833Z",
     "start_time": "2021-04-09T18:42:18.036015Z"
    },
    "hidden": true
   },
   "outputs": [],
   "source": [
    "to_concat = np.vstack(to_concat)"
   ]
  },
  {
   "cell_type": "code",
   "execution_count": null,
   "metadata": {
    "ExecuteTime": {
     "end_time": "2021-04-09T18:42:22.383352Z",
     "start_time": "2021-04-09T18:42:22.052285Z"
    },
    "hidden": true
   },
   "outputs": [],
   "source": [
    "test_df = pd.DataFrame(to_concat, columns=['player', 'tournament_id', 't_start_date', 'team_id', 'mask'])"
   ]
  },
  {
   "cell_type": "code",
   "execution_count": null,
   "metadata": {
    "ExecuteTime": {
     "end_time": "2021-04-09T18:42:26.160454Z",
     "start_time": "2021-04-09T18:42:25.996799Z"
    },
    "hidden": true
   },
   "outputs": [],
   "source": [
    "test_df = test_df.sort_values(by='player')"
   ]
  },
  {
   "cell_type": "code",
   "execution_count": null,
   "metadata": {
    "ExecuteTime": {
     "end_time": "2021-04-09T18:42:30.352558Z",
     "start_time": "2021-04-09T18:42:29.773695Z"
    },
    "hidden": true
   },
   "outputs": [],
   "source": [
    "test_df.to_csv(\"test_df.csv\", index=False)"
   ]
  },
  {
   "cell_type": "markdown",
   "metadata": {
    "heading_collapsed": true,
    "hidden": true
   },
   "source": [
    "### Посчитать статистики для обучения на train и обучить модель"
   ]
  },
  {
   "cell_type": "code",
   "execution_count": null,
   "metadata": {
    "hidden": true
   },
   "outputs": [],
   "source": [
    "from sklearn.linear_model import LogisticRegression\n",
    "from sklearn.model_selection import cross_val_score\n",
    "\n",
    "from itertools import product"
   ]
  },
  {
   "cell_type": "code",
   "execution_count": null,
   "metadata": {
    "ExecuteTime": {
     "end_time": "2021-04-10T11:08:29.891346Z",
     "start_time": "2021-04-10T11:08:29.395556Z"
    },
    "hidden": true
   },
   "outputs": [],
   "source": [
    "%%time\n",
    "train_df = pd.read_csv(\"train_df.csv\")"
   ]
  },
  {
   "cell_type": "code",
   "execution_count": null,
   "metadata": {
    "ExecuteTime": {
     "end_time": "2021-04-10T11:08:57.007646Z",
     "start_time": "2021-04-10T11:08:36.119582Z"
    },
    "hidden": true
   },
   "outputs": [],
   "source": [
    "%%time\n",
    "# проставить target events\n",
    "train_df = train_df.astype({'player': int,\n",
    "                            'tournament_id': int,\n",
    "                            't_start_date': 'datetime64[ns]',\n",
    "                            'team_id': int,\n",
    "                            })\n",
    "\n",
    "train_df.loc[:, 'q_answered'] = train_df['mask'].apply(lambda x: sum([int(i) for i in x if re.match(\"\\d\", i)]))\n",
    "train_df.loc[:, 'q_total'] = train_df['mask'].str.len()\n",
    "\n",
    "train_df.loc[:, 'target'] = train_df.q_answered / train_df.q_total\n",
    "\n",
    "print(\"New train_df.dtypes: \\n\", \"-\" * 120, \"\\n\", train_df.dtypes, \"\\n\" ,\"-\" * 120, sep='')\n",
    "\n",
    "train_df = train_df.sort_values(by=['player', 't_start_date'])\n",
    "\n",
    "print(\"Число уникальных tournament_id\", train_df[['tournament_id', 't_start_date']].drop_duplicates().shape)\n",
    "\n",
    "train_df.loc[:, 'tournament_number'] = train_df.groupby('player').cumcount('tournament_id') + 1\n",
    "\n",
    "# игроки с более чем 3мя турнирами\n",
    "players_with_tours = \\\n",
    "train_df.groupby('player').tournament_number.max().loc[train_df.groupby('player').tournament_number.max() > 3].\\\n",
    "index.tolist()\n",
    "\n",
    "# случайно выбрать моменты для обучения по каждому игроку\n",
    "moments_to_predict = \\\n",
    "train_df.loc[train_df.player.isin(players_with_tours)].\\\n",
    "groupby('player').tournament_number.max().apply(lambda x: np.random.randint(4, x + 1)).reset_index()\n",
    "\n",
    "# check uniqness\n",
    "assert moments_to_predict.shape == moments_to_predict.drop_duplicates().shape\n",
    "\n",
    "# проставить target_events\n",
    "moments_to_predict.loc[:, 'target_event'] = 1\n",
    "moments_to_predict.target_event = moments_to_predict.target_event.fillna(0)\n",
    "\n",
    "# присоединить метку target_events к основному датасету\n",
    "train_df = pd.merge(train_df, moments_to_predict, \n",
    "         how='left',\n",
    "         left_on=['player', 'tournament_number'],\n",
    "         right_on=['player', 'tournament_number']\n",
    "        )\n",
    "\n",
    "train_df.loc[:, 'target_event'] = train_df.target_event.fillna(0)"
   ]
  },
  {
   "cell_type": "markdown",
   "metadata": {
    "hidden": true
   },
   "source": [
    "__фичи для обучения__\n",
    "\n",
    "|Название поля | Способ подсчёта | Описание |\n",
    "| --- | --- | --- |\n",
    "|tours_num|tournament_number - 1 | число турниров |\n",
    "|avg_pct_answered| | средний процент ответов|\n",
    "|min_pct_answered||| Минимальный процент ответов"
   ]
  },
  {
   "cell_type": "code",
   "execution_count": null,
   "metadata": {
    "ExecuteTime": {
     "end_time": "2021-04-10T11:09:03.249999Z",
     "start_time": "2021-04-10T11:09:03.242007Z"
    },
    "hidden": true
   },
   "outputs": [],
   "source": [
    "def preprocess_data(df):\n",
    "    df.loc[:, 'tours_num'] = df.tournament_number - 1\n",
    "\n",
    "    # среднее\n",
    "    df.loc[:, \"avg_pct_answered\"] = \\\n",
    "    (df.groupby(\"player\").q_answered.cumsum() - df.q_answered) / \\\n",
    "    (df.groupby(\"player\").q_total.cumsum() - df.q_total)\n",
    "\n",
    "    # минимум\n",
    "    df.loc[:, 'min_pct_answered'] = df.groupby('player').target.rolling(WINDOW_UPPER_BOUND, \n",
    "                                                                                    min_periods=1).min().values\n",
    "    df.loc[:, 'min_pct_answered'] = df.groupby(\"player\")['min_pct_answered'].shift(1)\n",
    "\n",
    "\n",
    "    # максимум\n",
    "    df.loc[:, 'max_pct_answered'] = df.groupby('player').target.rolling(WINDOW_UPPER_BOUND, \n",
    "                                                                                    min_periods=1).max().values\n",
    "    df.loc[:, 'max_pct_answered'] = df.groupby(\"player\")['max_pct_answered'].shift(1)\n",
    "\n",
    "    # квантили\n",
    "    df.loc[:, 'pct_answered_q_10'] = df.groupby('player').target.rolling(WINDOW_UPPER_BOUND, \n",
    "                                                                                    min_periods=1).quantile(0.1).values\n",
    "    df.loc[:, 'pct_answered_q_10'] = df.groupby(\"player\")['pct_answered_q_10'].shift(1)\n",
    "\n",
    "    df.loc[:, 'pct_answered_q_90'] = df.groupby('player').target.rolling(WINDOW_UPPER_BOUND, \n",
    "                                                                                    min_periods=1).quantile(0.9).values\n",
    "    df.loc[:, 'pct_answered_q_90'] = df.groupby(\"player\")['pct_answered_q_90'].shift(1)\n",
    "\n",
    "    df.loc[:, 'pct_answered_q_50'] = df.groupby('player').target.rolling(WINDOW_UPPER_BOUND, \n",
    "                                                                                    min_periods=1).quantile(0.5).values\n",
    "    df.loc[:, 'pct_answered_q_50'] = df.groupby(\"player\")['pct_answered_q_50'].shift(1)\n",
    "    return df"
   ]
  },
  {
   "cell_type": "code",
   "execution_count": null,
   "metadata": {
    "hidden": true
   },
   "outputs": [],
   "source": []
  },
  {
   "cell_type": "code",
   "execution_count": null,
   "metadata": {
    "ExecuteTime": {
     "end_time": "2021-04-10T11:11:09.852922Z",
     "start_time": "2021-04-10T11:09:09.496154Z"
    },
    "hidden": true
   },
   "outputs": [],
   "source": [
    "%%time\n",
    "# посчитать базовые фичи на target events\n",
    "WINDOW_UPPER_BOUND = 100\n",
    "\n",
    "train_df = preprocess_data(train_df)\n",
    "\n",
    "X = \\\n",
    "train_df.loc[train_df.target_event == 1][['tours_num','avg_pct_answered',\n",
    "         'min_pct_answered',\n",
    "         'max_pct_answered',\n",
    "         'pct_answered_q_10',\n",
    "         'pct_answered_q_50',\n",
    "         'pct_answered_q_90',\n",
    "          ]]\n",
    "\n",
    "y = \\\n",
    "train_df.loc[train_df.target_event == 1].target.values\n",
    "\n",
    "assert \\\n",
    "train_df.loc[train_df.target_event == 1][['player', 'tournament_id']].shape == \\\n",
    "train_df.loc[train_df.target_event == 1][['player', 'tournament_id']].drop_duplicates().shape\n",
    "\n",
    "train_df = train_df.set_index(['player', 'tournament_id'])\n",
    "\n",
    "train_df = train_df.loc[train_df.target_event == 1]"
   ]
  },
  {
   "cell_type": "code",
   "execution_count": null,
   "metadata": {
    "ExecuteTime": {
     "end_time": "2021-04-10T11:30:51.773267Z",
     "start_time": "2021-04-10T11:30:51.728419Z"
    },
    "hidden": true
   },
   "outputs": [],
   "source": [
    "train_df"
   ]
  },
  {
   "cell_type": "code",
   "execution_count": null,
   "metadata": {
    "ExecuteTime": {
     "end_time": "2021-04-09T18:19:45.008714Z",
     "start_time": "2021-04-09T17:46:39.531400Z"
    },
    "hidden": true
   },
   "outputs": [],
   "source": [
    "%%time\n",
    "# посчитать X_train и y_train\n",
    "X_train = []\n",
    "y_train = []\n",
    "\n",
    "for ind, row in tqdm(train_df[['tournament_number',\n",
    "                         'target_event',\n",
    "                         'tours_num',\n",
    "                         'avg_pct_answered',\n",
    "                         'min_pct_answered',\n",
    "                         'max_pct_answered',\n",
    "                         'pct_answered_q_10',\n",
    "                         'pct_answered_q_90',\n",
    "                         'pct_answered_q_50',\n",
    "                         'mask']].iterrows()):\n",
    "    for x_row, y_row in product([row.values[:-1]], [int(x) for x in row['mask'] if re.match(\"\\d\", x)]):\n",
    "        X_train.append(np.array(x_row))\n",
    "        y_train = np.append(y_train, y_row)\n",
    "\n",
    "X_train = np.vstack(X_train)"
   ]
  },
  {
   "cell_type": "code",
   "execution_count": null,
   "metadata": {
    "ExecuteTime": {
     "end_time": "2021-04-10T14:29:50.085306Z",
     "start_time": "2021-04-10T14:29:50.051442Z"
    },
    "hidden": true
   },
   "outputs": [],
   "source": []
  },
  {
   "cell_type": "code",
   "execution_count": null,
   "metadata": {
    "ExecuteTime": {
     "end_time": "2021-04-09T18:20:46.354687Z",
     "start_time": "2021-04-09T18:20:46.350698Z"
    },
    "hidden": true
   },
   "outputs": [],
   "source": [
    "# сохранить\n",
    "# train_X_y = [X_train, y_train]\n",
    "\n",
    "# with open(\"train_X_y.pkl\", \"wb\") as f:\n",
    "#     pickle.dump(train_X_y, f)"
   ]
  },
  {
   "cell_type": "code",
   "execution_count": null,
   "metadata": {
    "ExecuteTime": {
     "end_time": "2021-04-10T14:27:50.619335Z",
     "start_time": "2021-04-10T14:27:50.585445Z"
    },
    "hidden": true
   },
   "outputs": [],
   "source": [
    "model = LogisticRegression()\n",
    "model.fit(X_train, y_train)"
   ]
  },
  {
   "cell_type": "markdown",
   "metadata": {
    "ExecuteTime": {
     "end_time": "2021-04-09T18:36:40.120003Z",
     "start_time": "2021-04-09T18:36:40.108024Z"
    },
    "hidden": true
   },
   "source": [
    "### Аналогично посчитать статистики для теста и проверить модель"
   ]
  },
  {
   "cell_type": "code",
   "execution_count": 17,
   "metadata": {
    "ExecuteTime": {
     "end_time": "2021-04-10T18:15:08.169113Z",
     "start_time": "2021-04-10T18:15:08.165124Z"
    },
    "hidden": true
   },
   "outputs": [],
   "source": [
    "from scipy.stats import spearmanr, kendalltau"
   ]
  },
  {
   "cell_type": "code",
   "execution_count": 18,
   "metadata": {
    "ExecuteTime": {
     "end_time": "2021-04-10T18:15:08.714657Z",
     "start_time": "2021-04-10T18:15:08.595008Z"
    },
    "hidden": true
   },
   "outputs": [
    {
     "name": "stdout",
     "output_type": "stream",
     "text": [
      "Wall time: 115 ms\n"
     ]
    }
   ],
   "source": [
    "%%time\n",
    "test_df = pd.read_csv(\"test_df.csv\")"
   ]
  },
  {
   "cell_type": "code",
   "execution_count": 19,
   "metadata": {
    "ExecuteTime": {
     "end_time": "2021-04-10T18:15:13.512356Z",
     "start_time": "2021-04-10T18:15:09.140965Z"
    },
    "hidden": true
   },
   "outputs": [
    {
     "name": "stdout",
     "output_type": "stream",
     "text": [
      "New test_df.dtypes: \n",
      "------------------------------------------------------------------------------------------------------------------------\n",
      "player                    int32\n",
      "tournament_id             int32\n",
      "t_start_date     datetime64[ns]\n",
      "team_id                   int32\n",
      "mask                     object\n",
      "q_answered                int64\n",
      "q_total                   int64\n",
      "target                  float64\n",
      "dtype: object\n",
      "------------------------------------------------------------------------------------------------------------------------\n",
      "Число уникальных tournament_id (173, 2)\n",
      "Wall time: 4.37 s\n"
     ]
    }
   ],
   "source": [
    "%%time\n",
    "# проставить target events\n",
    "test_df = test_df.astype({'player': int,\n",
    "                            'tournament_id': int,\n",
    "                            't_start_date': 'datetime64[ns]',\n",
    "                            'team_id': int,\n",
    "                            })\n",
    "\n",
    "test_df.loc[:, 'q_answered'] = test_df['mask'].apply(lambda x: sum([int(i) for i in x if re.match(\"\\d\", i)]))\n",
    "test_df.loc[:, 'q_total'] = test_df['mask'].str.len()\n",
    "\n",
    "test_df.loc[:, 'target'] = test_df.q_answered / test_df.q_total\n",
    "\n",
    "print(\"New test_df.dtypes: \\n\", \"-\" * 120, \"\\n\", test_df.dtypes, \"\\n\" ,\"-\" * 120, sep='')\n",
    "\n",
    "test_df = test_df.sort_values(by=['player', 't_start_date'])\n",
    "\n",
    "print(\"Число уникальных tournament_id\", test_df[['tournament_id', 't_start_date']].drop_duplicates().shape)\n",
    "\n",
    "test_df.loc[:, 'tournament_number'] = test_df.groupby('player').cumcount('tournament_id') + 1\n",
    "\n",
    "# игроки с более чем 3мя турнирами\n",
    "players_with_tours = \\\n",
    "test_df.groupby('player').tournament_number.max().loc[test_df.groupby('player').tournament_number.max() > 3].\\\n",
    "index.tolist()\n",
    "\n",
    "# случайно выбрать моменты для обучения по каждому игроку\n",
    "moments_to_predict = \\\n",
    "test_df.loc[test_df.player.isin(players_with_tours)].\\\n",
    "groupby('player').tournament_number.max().apply(lambda x: np.random.randint(4, x + 1)).reset_index()\n",
    "\n",
    "# check uniqness\n",
    "assert moments_to_predict.shape == moments_to_predict.drop_duplicates().shape\n",
    "\n",
    "# проставить target_events\n",
    "moments_to_predict.loc[:, 'target_event'] = 1\n",
    "moments_to_predict.target_event = moments_to_predict.target_event.fillna(0)\n",
    "\n",
    "# присоединить метку target_events к основному датасету\n",
    "test_df = pd.merge(test_df, moments_to_predict, \n",
    "         how='left',\n",
    "         left_on=['player', 'tournament_number'],\n",
    "         right_on=['player', 'tournament_number']\n",
    "        )\n",
    "\n",
    "test_df.loc[:, 'target_event'] = test_df.target_event.fillna(0)"
   ]
  },
  {
   "cell_type": "code",
   "execution_count": 20,
   "metadata": {
    "ExecuteTime": {
     "end_time": "2021-04-10T18:16:11.662568Z",
     "start_time": "2021-04-10T18:15:13.683885Z"
    },
    "hidden": true
   },
   "outputs": [
    {
     "name": "stdout",
     "output_type": "stream",
     "text": [
      "Wall time: 58 s\n"
     ]
    }
   ],
   "source": [
    "%%time\n",
    "# посчитать базовые фичи на target events\n",
    "WINDOW_UPPER_BOUND = 100\n",
    "\n",
    "test_df.loc[:, 'tours_num'] = test_df.tournament_number - 1\n",
    "\n",
    "# среднее\n",
    "test_df.loc[:, \"avg_pct_answered\"] = \\\n",
    "(test_df.groupby(\"player\").q_answered.cumsum() - test_df.q_answered) / \\\n",
    "(test_df.groupby(\"player\").q_total.cumsum() - test_df.q_total)\n",
    "\n",
    "# минимум\n",
    "test_df.loc[:, 'min_pct_answered'] = test_df.groupby('player').target.rolling(WINDOW_UPPER_BOUND, \n",
    "                                                                                min_periods=1).min().values\n",
    "test_df.loc[:, 'min_pct_answered'] = test_df.groupby(\"player\")['min_pct_answered'].shift(1)\n",
    "\n",
    "\n",
    "# максимум\n",
    "test_df.loc[:, 'max_pct_answered'] = test_df.groupby('player').target.rolling(WINDOW_UPPER_BOUND, \n",
    "                                                                                min_periods=1).max().values\n",
    "test_df.loc[:, 'max_pct_answered'] = test_df.groupby(\"player\")['max_pct_answered'].shift(1)\n",
    "\n",
    "# квантили\n",
    "test_df.loc[:, 'pct_answered_q_10'] = test_df.groupby('player').target.rolling(WINDOW_UPPER_BOUND, \n",
    "                                                                                min_periods=1).quantile(0.1).values\n",
    "test_df.loc[:, 'pct_answered_q_10'] = test_df.groupby(\"player\")['pct_answered_q_10'].shift(1)\n",
    "\n",
    "test_df.loc[:, 'pct_answered_q_90'] = test_df.groupby('player').target.rolling(WINDOW_UPPER_BOUND, \n",
    "                                                                                min_periods=1).quantile(0.9).values\n",
    "test_df.loc[:, 'pct_answered_q_90'] = test_df.groupby(\"player\")['pct_answered_q_90'].shift(1)\n",
    "\n",
    "test_df.loc[:, 'pct_answered_q_50'] = test_df.groupby('player').target.rolling(WINDOW_UPPER_BOUND, \n",
    "                                                                                min_periods=1).quantile(0.5).values\n",
    "test_df.loc[:, 'pct_answered_q_50'] = test_df.groupby(\"player\")['pct_answered_q_50'].shift(1)\n",
    "\n",
    "X = \\\n",
    "test_df.loc[test_df.target_event == 1][['tours_num','avg_pct_answered', \n",
    "          'min_pct_answered',\n",
    "         'max_pct_answered',\n",
    "         'pct_answered_q_10',\n",
    "         'pct_answered_q_50',\n",
    "         'pct_answered_q_90',\n",
    "          ]]\n",
    "\n",
    "y = \\\n",
    "test_df.loc[test_df.target_event == 1].target.values\n",
    "\n",
    "assert \\\n",
    "test_df.loc[test_df.target_event == 1][['player', 'tournament_id']].shape == \\\n",
    "test_df.loc[test_df.target_event == 1][['player', 'tournament_id']].drop_duplicates().shape\n",
    "\n",
    "test_df = test_df.set_index(['player', 'tournament_id'])\n",
    "\n",
    "test_df = test_df.loc[test_df.target_event == 1]"
   ]
  },
  {
   "cell_type": "code",
   "execution_count": 21,
   "metadata": {
    "ExecuteTime": {
     "end_time": "2021-04-10T18:16:11.851111Z",
     "start_time": "2021-04-10T18:16:11.848071Z"
    },
    "hidden": true
   },
   "outputs": [],
   "source": [
    "# собрать X_test\n",
    "X_test = test_df[['tournament_number',\n",
    "                         'target_event',\n",
    "                         'tours_num',\n",
    "                         'avg_pct_answered',\n",
    "                         'min_pct_answered',\n",
    "                         'max_pct_answered',\n",
    "                         'pct_answered_q_10',\n",
    "                         'pct_answered_q_90',\n",
    "                         'pct_answered_q_50']]"
   ]
  },
  {
   "cell_type": "code",
   "execution_count": null,
   "metadata": {
    "ExecuteTime": {
     "end_time": "2021-04-09T18:53:32.101718Z",
     "start_time": "2021-04-09T18:53:32.095733Z"
    },
    "hidden": true
   },
   "outputs": [],
   "source": [
    "model.predict_proba(X_test)[:, 1]"
   ]
  },
  {
   "cell_type": "code",
   "execution_count": null,
   "metadata": {
    "ExecuteTime": {
     "end_time": "2021-04-09T18:49:09.277361Z",
     "start_time": "2021-04-09T18:49:08.658857Z"
    },
    "hidden": true
   },
   "outputs": [],
   "source": [
    "# собрать результаты для сверки\n",
    "y_test_prob = \\\n",
    "test_df['mask'].apply(lambda x: sum([int(i) for i in x if re.match(\"\\d\", i)])) / \\\n",
    "test_df['mask'].apply(lambda x: sum([1 for i in x if re.match(\"\\d\", i)]))"
   ]
  },
  {
   "cell_type": "code",
   "execution_count": null,
   "metadata": {
    "ExecuteTime": {
     "end_time": "2021-04-09T19:02:57.029617Z",
     "start_time": "2021-04-09T19:02:57.014658Z"
    },
    "hidden": true
   },
   "outputs": [],
   "source": [
    "# качество не очень, но это качество между ранжированием игроков, а не ранжированием команд\n",
    "print(\"Корреляция Спирмена\", spearmanr(model.predict_proba(X_test)[:, 1], y_test_prob.values))\n",
    "print(\"Корреляция Кендалла\", kendalltau(model.predict_proba(X_test)[:, 1], y_test_prob.values))"
   ]
  },
  {
   "cell_type": "markdown",
   "metadata": {
    "hidden": true
   },
   "source": [
    "- вышеприведённые корреляции применяются для рейтингов игроков, а не для мест команд"
   ]
  },
  {
   "cell_type": "markdown",
   "metadata": {
    "hidden": true
   },
   "source": [
    "### Модель/расчёт для сложности вопросов"
   ]
  },
  {
   "cell_type": "code",
   "execution_count": null,
   "metadata": {
    "ExecuteTime": {
     "end_time": "2021-04-09T19:35:30.574028Z",
     "start_time": "2021-04-09T19:35:29.708627Z"
    },
    "hidden": true
   },
   "outputs": [],
   "source": [
    "train_df = pd.read_csv(\"train_df.csv\")"
   ]
  },
  {
   "cell_type": "code",
   "execution_count": null,
   "metadata": {
    "ExecuteTime": {
     "end_time": "2021-04-09T19:42:36.595819Z",
     "start_time": "2021-04-09T19:42:36.591797Z"
    },
    "hidden": true
   },
   "outputs": [],
   "source": [
    "# plt.figure(figsize=(16, 6));\n",
    "# plt.hist(train_df.groupby(\"tournament_id\").team_id.nunique(), \n",
    "#          bins=100, histtype='step', cumulative=True, );\n",
    "# plt.xticks(np.arange(0, 2000, 50))\n",
    "# plt.grid(True)\n",
    "# plt.show()"
   ]
  },
  {
   "cell_type": "code",
   "execution_count": null,
   "metadata": {
    "ExecuteTime": {
     "end_time": "2021-04-09T19:45:17.348113Z",
     "start_time": "2021-04-09T19:45:17.128520Z"
    },
    "hidden": true
   },
   "outputs": [],
   "source": [
    "# посчитать процент ответов\n",
    "tournaments_for_train = train_df.groupby(\"tournament_id\").team_id.nunique().\\\n",
    "loc[train_df.groupby(\"tournament_id\").team_id.nunique() > 10].index\n",
    "\n",
    "tournament_x_question = []\n",
    "for ind, group in train_df[['tournament_id', 'team_id', \"mask\"]].drop_duplicates().groupby(\"tournament_id\"):\n",
    "    # print(group)\n",
    "    function_to_apply = lambda x: np.array([int(i) for i in x.replace(\"?\", \"0\") if re.match(\"\\d\", i)])\n",
    "    \n",
    "    lists = group['mask'].apply(function_to_apply)\n",
    "    # привести длины в порядок\n",
    "    lists = list(zip(*lists))\n",
    "    pct_answered = np.vstack(lists).mean(axis=0)\n",
    "    \n",
    "    by_tournament = [(i[0], ind + 1, i[1])  for ind, i in enumerate(product([ind], pct_answered))]\n",
    "    tournament_x_question.append(by_tournament)\n"
   ]
  },
  {
   "cell_type": "code",
   "execution_count": null,
   "metadata": {
    "ExecuteTime": {
     "end_time": "2021-04-09T21:06:50.145575Z",
     "start_time": "2021-04-09T21:06:46.326753Z"
    },
    "hidden": true
   },
   "outputs": [],
   "source": [
    "tournament_x_question"
   ]
  },
  {
   "cell_type": "code",
   "execution_count": null,
   "metadata": {
    "ExecuteTime": {
     "end_time": "2021-04-10T12:43:31.154938Z",
     "start_time": "2021-04-10T12:43:31.111055Z"
    },
    "hidden": true
   },
   "outputs": [],
   "source": []
  },
  {
   "cell_type": "code",
   "execution_count": null,
   "metadata": {
    "ExecuteTime": {
     "end_time": "2021-04-10T12:46:17.343603Z",
     "start_time": "2021-04-10T12:46:17.293757Z"
    },
    "hidden": true
   },
   "outputs": [],
   "source": [
    "# посчитаем рейтинг команд\n",
    "X_train = train_df[['tournament_number',\n",
    "                         'target_event',\n",
    "                         'tours_num',\n",
    "                         'avg_pct_answered',\n",
    "                         'min_pct_answered',\n",
    "                         'max_pct_answered',\n",
    "                         'pct_answered_q_10',\n",
    "                         'pct_answered_q_90',\n",
    "                         'pct_answered_q_50']]\n",
    "\n",
    "predictions = model.predict_proba(X_train)[:, 1]\n",
    "\n",
    "\n",
    "for_team_rating = train_df[['team_id', 'mask']].reset_index()\n",
    "\n",
    "for_team_rating.loc[:, 'predicted_rating'] = predictions\n",
    "\n",
    "team_rating = for_team_rating.groupby(['team_id', 'tournament_id', 'mask']).predicted_rating.mean().reset_index()"
   ]
  },
  {
   "cell_type": "code",
   "execution_count": null,
   "metadata": {
    "ExecuteTime": {
     "end_time": "2021-04-10T12:59:07.059569Z",
     "start_time": "2021-04-10T12:59:07.055614Z"
    },
    "hidden": true
   },
   "outputs": [],
   "source": [
    "# визуальная проверка на одинаковое число вопросов\n",
    "# team_rating.assign(mask_length = team_rating['mask'].str.len()).groupby('tournament_id').mask_length.agg(['min','max','mean'])"
   ]
  },
  {
   "cell_type": "code",
   "execution_count": null,
   "metadata": {
    "ExecuteTime": {
     "end_time": "2021-04-10T12:44:55.231491Z",
     "start_time": "2021-04-10T12:44:55.083884Z"
    },
    "hidden": true
   },
   "outputs": [],
   "source": [
    "# распределение команд по предсказанному рейтингу\n",
    "plt.figure(figsize=(18, 6))\n",
    "plt.hist(team_rating.predicted_rating, \n",
    "         bins=np.arange(0, 1.1, 0.05), \n",
    "         histtype='step',\n",
    "         cumulative=False,\n",
    "         density=True,\n",
    "         linewidth=2\n",
    "        );\n",
    "plt.grid(True)\n",
    "plt.show()"
   ]
  },
  {
   "cell_type": "code",
   "execution_count": null,
   "metadata": {
    "ExecuteTime": {
     "end_time": "2021-04-10T13:15:58.393758Z",
     "start_time": "2021-04-10T13:15:40.829292Z"
    },
    "hidden": true
   },
   "outputs": [],
   "source": [
    "%%time\n",
    "q_complexities = []\n",
    "for tournament_id, group in tqdm(team_rating.groupby('tournament_id')):\n",
    "    # print(group['mask'].str.len().min())\n",
    "    for q_number in range(1,  group['mask'].str.len().min() + 1):\n",
    "        q_complexity = group.loc[group['mask'].apply(lambda x: x[q_number - 1] == '1')].predicted_rating.mean()\n",
    "        q_complexities.append((tournament_id, q_number, q_complexity))"
   ]
  },
  {
   "cell_type": "code",
   "execution_count": null,
   "metadata": {
    "ExecuteTime": {
     "end_time": "2021-04-10T13:21:23.015854Z",
     "start_time": "2021-04-10T13:21:22.993763Z"
    },
    "hidden": true
   },
   "outputs": [],
   "source": [
    "q_complexities = pd.DataFrame(q_complexities, columns=['tournament_id', 'q_number', 'q_complexity'])"
   ]
  },
  {
   "cell_type": "code",
   "execution_count": null,
   "metadata": {
    "ExecuteTime": {
     "end_time": "2021-04-10T13:21:35.583508Z",
     "start_time": "2021-04-10T13:21:35.439161Z"
    },
    "hidden": true
   },
   "outputs": [],
   "source": [
    "q_complexities.to_csv(\"q_complexities.csv\", index=False)"
   ]
  },
  {
   "cell_type": "code",
   "execution_count": null,
   "metadata": {
    "ExecuteTime": {
     "end_time": "2021-04-10T13:09:39.086538Z",
     "start_time": "2021-04-10T13:09:39.070587Z"
    },
    "hidden": true
   },
   "outputs": [],
   "source": []
  },
  {
   "cell_type": "markdown",
   "metadata": {
    "heading_collapsed": true
   },
   "source": [
    "##  Способ ранжирования команд на основе рейтинга игроков"
   ]
  },
  {
   "cell_type": "markdown",
   "metadata": {
    "hidden": true
   },
   "source": [
    "- возьмём числовые характеристики рейтингов игроков в команде и обучим модель на этих рейтингах\n",
    "\n",
    "__предпосылки:__\n",
    "- рейтинг игроков якобы не содержит информации о целевой переменной (несмотря на, то, что предпосылка нарушается можно сказать, что рейтинг игроков содержит мало информации о результате конкретной игры и попробовать обучить веса логистической регрессии на характеристиках распределения (min, max, avg, квантили) рейтингов игроков в команде)"
   ]
  },
  {
   "cell_type": "markdown",
   "metadata": {
    "hidden": true
   },
   "source": [
    "### Обучим модель для baseline"
   ]
  },
  {
   "cell_type": "code",
   "execution_count": 2,
   "metadata": {
    "ExecuteTime": {
     "end_time": "2021-04-10T18:12:56.604919Z",
     "start_time": "2021-04-10T18:12:56.174909Z"
    },
    "hidden": true
   },
   "outputs": [],
   "source": [
    "train_df = pd.read_csv(\"train_df.csv\")"
   ]
  },
  {
   "cell_type": "code",
   "execution_count": 3,
   "metadata": {
    "ExecuteTime": {
     "end_time": "2021-04-10T18:12:58.620834Z",
     "start_time": "2021-04-10T18:12:57.678304Z"
    },
    "hidden": true
   },
   "outputs": [],
   "source": [
    "with open(\"train_X_y_full.pkl\", \"rb\") as f:\n",
    "    train_X_y = pickle.load(f)"
   ]
  },
  {
   "cell_type": "code",
   "execution_count": 4,
   "metadata": {
    "ExecuteTime": {
     "end_time": "2021-04-10T18:12:58.970513Z",
     "start_time": "2021-04-10T18:12:58.966521Z"
    },
    "hidden": true
   },
   "outputs": [],
   "source": [
    "train_X, train_y = train_X_y"
   ]
  },
  {
   "cell_type": "code",
   "execution_count": 5,
   "metadata": {
    "ExecuteTime": {
     "end_time": "2021-04-10T18:13:00.083298Z",
     "start_time": "2021-04-10T18:12:59.460910Z"
    },
    "hidden": true
   },
   "outputs": [],
   "source": [
    "prev_answers_cols = ['tournament_number',\n",
    "                         'target_event',\n",
    "                         'tours_num',\n",
    "                         'avg_pct_answered',\n",
    "                         'min_pct_answered',\n",
    "                         'max_pct_answered',\n",
    "                         'pct_answered_q_10',\n",
    "                         'pct_answered_q_90',\n",
    "                         'pct_answered_q_50']\n",
    "train_X = pd.DataFrame(train_X, \n",
    "                       columns= ['player', 'tournament_id', 'team_id'] + prev_answers_cols)"
   ]
  },
  {
   "cell_type": "code",
   "execution_count": 6,
   "metadata": {
    "ExecuteTime": {
     "end_time": "2021-04-10T18:13:00.144086Z",
     "start_time": "2021-04-10T18:13:00.141092Z"
    },
    "hidden": true
   },
   "outputs": [],
   "source": [
    "# q_complexities = pd.read_csv(\"q_complexities.csv\")"
   ]
  },
  {
   "cell_type": "code",
   "execution_count": 7,
   "metadata": {
    "ExecuteTime": {
     "end_time": "2021-04-10T18:13:07.778042Z",
     "start_time": "2021-04-10T18:13:00.700775Z"
    },
    "hidden": true
   },
   "outputs": [
    {
     "data": {
      "text/plain": [
       "LogisticRegression(C=1, class_weight=None, dual=False, fit_intercept=True,\n",
       "                   intercept_scaling=1, l1_ratio=None, max_iter=100,\n",
       "                   multi_class='auto', n_jobs=None, penalty='l2',\n",
       "                   random_state=None, solver='lbfgs', tol=0.0001, verbose=0,\n",
       "                   warm_start=False)"
      ]
     },
     "execution_count": 7,
     "metadata": {},
     "output_type": "execute_result"
    }
   ],
   "source": [
    "model1 = LogisticRegression(C=1)\n",
    "model1.fit(train_X[prev_answers_cols], train_y)"
   ]
  },
  {
   "cell_type": "code",
   "execution_count": 8,
   "metadata": {
    "ExecuteTime": {
     "end_time": "2021-04-10T18:13:08.462412Z",
     "start_time": "2021-04-10T18:13:07.868800Z"
    },
    "hidden": true
   },
   "outputs": [],
   "source": [
    "prediction = model1.predict_proba(train_X[prev_answers_cols])[:, 1]"
   ]
  },
  {
   "cell_type": "code",
   "execution_count": 9,
   "metadata": {
    "ExecuteTime": {
     "end_time": "2021-04-10T18:13:08.566155Z",
     "start_time": "2021-04-10T18:13:08.554169Z"
    },
    "hidden": true
   },
   "outputs": [],
   "source": [
    "train_X.loc[:, 'player_rating'] = prediction"
   ]
  },
  {
   "cell_type": "code",
   "execution_count": 10,
   "metadata": {
    "ExecuteTime": {
     "end_time": "2021-04-10T18:13:12.193562Z",
     "start_time": "2021-04-10T18:13:08.629967Z"
    },
    "hidden": true
   },
   "outputs": [],
   "source": [
    "def percentile(n):\n",
    "    def percentile_(x):\n",
    "        return np.percentile(x, n)\n",
    "    percentile_.__name__ = f\"percentile_{n}\"\n",
    "    return percentile_\n",
    "\n",
    "check = train_X.groupby([\"team_id\", \"tournament_id\"]).player_rating.agg(['min', 'max', 'mean', \n",
    "                                                                 percentile(10),\n",
    "                                                                 percentile(90)])\n",
    "check.columns = [\"agg_by_team_\" + i for i in check.columns]"
   ]
  },
  {
   "cell_type": "markdown",
   "metadata": {
    "hidden": true
   },
   "source": [
    "- с учётом того, что для 83% команд рейтинг всех игроков равный, можно было бы взять и просто максимальный рейтинг игрока в команде"
   ]
  },
  {
   "cell_type": "code",
   "execution_count": 12,
   "metadata": {
    "ExecuteTime": {
     "end_time": "2021-04-10T18:13:26.942986Z",
     "start_time": "2021-04-10T18:13:26.926032Z"
    },
    "hidden": true
   },
   "outputs": [
    {
     "data": {
      "text/plain": [
       "True     0.832159\n",
       "False    0.167841\n",
       "dtype: float64"
      ]
     },
     "execution_count": 12,
     "metadata": {},
     "output_type": "execute_result"
    }
   ],
   "source": [
    "# с учётом того, что для 83% команд рейтинг всех игроков равный, можно взять и просто максимальный рейтинг игрока в команде\n",
    "(check['agg_by_team_min'] == check['agg_by_team_max']).value_counts(normalize=True)"
   ]
  },
  {
   "cell_type": "code",
   "execution_count": 13,
   "metadata": {
    "ExecuteTime": {
     "end_time": "2021-04-10T18:13:32.091866Z",
     "start_time": "2021-04-10T18:13:28.787700Z"
    },
    "hidden": true
   },
   "outputs": [
    {
     "data": {
      "text/plain": [
       "LogisticRegression(C=1.0, class_weight=None, dual=False, fit_intercept=True,\n",
       "                   intercept_scaling=1, l1_ratio=None, max_iter=100,\n",
       "                   multi_class='auto', n_jobs=None, penalty='l2',\n",
       "                   random_state=None, solver='lbfgs', tol=0.0001, verbose=0,\n",
       "                   warm_start=False)"
      ]
     },
     "execution_count": 13,
     "metadata": {},
     "output_type": "execute_result"
    }
   ],
   "source": [
    "tournament_x_team = train_X[['player', 'tournament_id', 'team_id']].copy()\n",
    "\n",
    "tournament_x_team.loc[:, 'target'] = train_y\n",
    "\n",
    "tournament_x_team = \\\n",
    "pd.merge(tournament_x_team, check.reset_index(),\n",
    "         how='inner',\n",
    "         left_on= ['tournament_id', 'team_id'],\n",
    "         right_on=['tournament_id', 'team_id'])\n",
    "\n",
    "X_train = \\\n",
    "tournament_x_team[['agg_by_team_min', 'agg_by_team_max', 'agg_by_team_mean',\n",
    "       'agg_by_team_percentile_10', 'agg_by_team_percentile_90']]\n",
    "y_train = tournament_x_team['target']\n",
    "\n",
    "model2 = LogisticRegression()\n",
    "model2.fit(X_train, y_train)"
   ]
  },
  {
   "cell_type": "code",
   "execution_count": 14,
   "metadata": {
    "ExecuteTime": {
     "end_time": "2021-04-10T18:13:32.247449Z",
     "start_time": "2021-04-10T18:13:32.242461Z"
    },
    "hidden": true
   },
   "outputs": [
    {
     "name": "stdout",
     "output_type": "stream",
     "text": [
      "Coefficients: [[-1.11345547 -0.39870715  7.40371779 -1.11345547 -0.39870715]]\n",
      "Intercept: [-2.18913066]\n"
     ]
    }
   ],
   "source": [
    "print(\"Coefficients:\", model2.coef_)\n",
    "print(\"Intercept:\", model2.intercept_)"
   ]
  },
  {
   "cell_type": "markdown",
   "metadata": {
    "ExecuteTime": {
     "end_time": "2021-04-10T18:13:55.117270Z",
     "start_time": "2021-04-10T18:13:55.104290Z"
    },
    "hidden": true
   },
   "source": [
    "### Протестируем качество модели"
   ]
  },
  {
   "cell_type": "code",
   "execution_count": 41,
   "metadata": {
    "ExecuteTime": {
     "end_time": "2021-04-10T18:23:16.471002Z",
     "start_time": "2021-04-10T18:23:16.462010Z"
    },
    "hidden": true
   },
   "outputs": [],
   "source": [
    "# собрать X_test\n",
    "X_test = test_df.reset_index()[['player', 'tournament_id', 'team_id'] + prev_answers_cols]"
   ]
  },
  {
   "cell_type": "code",
   "execution_count": 42,
   "metadata": {
    "ExecuteTime": {
     "end_time": "2021-04-10T18:23:17.633801Z",
     "start_time": "2021-04-10T18:23:17.627819Z"
    },
    "hidden": true
   },
   "outputs": [],
   "source": [
    "test_prediction_model1 = model1.predict_proba(X_test[prev_answers_cols])[:, 1]"
   ]
  },
  {
   "cell_type": "code",
   "execution_count": 43,
   "metadata": {
    "ExecuteTime": {
     "end_time": "2021-04-10T18:23:22.455400Z",
     "start_time": "2021-04-10T18:23:22.449381Z"
    },
    "hidden": true
   },
   "outputs": [],
   "source": [
    "X_test.loc[:, 'player_rating'] = test_prediction_model1"
   ]
  },
  {
   "cell_type": "code",
   "execution_count": 45,
   "metadata": {
    "ExecuteTime": {
     "end_time": "2021-04-10T18:23:34.371598Z",
     "start_time": "2021-04-10T18:23:33.235527Z"
    },
    "hidden": true
   },
   "outputs": [],
   "source": [
    "agg_test = X_test.groupby([\"team_id\", \"tournament_id\"]).player_rating.agg(['min', 'max', 'mean', \n",
    "                                                                 percentile(10),\n",
    "                                                                 percentile(90)])\n",
    "agg_test.columns = [\"agg_by_team_\" + i for i in agg_test.columns]"
   ]
  },
  {
   "cell_type": "code",
   "execution_count": 47,
   "metadata": {
    "ExecuteTime": {
     "end_time": "2021-04-10T18:23:55.837439Z",
     "start_time": "2021-04-10T18:23:55.830452Z"
    },
    "hidden": true
   },
   "outputs": [
    {
     "data": {
      "text/plain": [
       "True     0.748425\n",
       "False    0.251575\n",
       "dtype: float64"
      ]
     },
     "execution_count": 47,
     "metadata": {},
     "output_type": "execute_result"
    }
   ],
   "source": [
    "(agg_test['agg_by_team_min'] == agg_test['agg_by_team_max']).value_counts(normalize=True)"
   ]
  },
  {
   "cell_type": "code",
   "execution_count": 48,
   "metadata": {
    "ExecuteTime": {
     "end_time": "2021-04-10T18:25:24.586794Z",
     "start_time": "2021-04-10T18:25:24.517787Z"
    },
    "hidden": true
   },
   "outputs": [],
   "source": [
    "tournament_x_team = X_test[['player', 'tournament_id', 'team_id']].copy()\n",
    "\n",
    "tournament_x_team = \\\n",
    "pd.merge(tournament_x_team, agg_test.reset_index(),\n",
    "         how='inner',\n",
    "         left_on= ['tournament_id', 'team_id'],\n",
    "         right_on=['tournament_id', 'team_id'])\n",
    "\n",
    "X_test_for_2nd_model = \\\n",
    "tournament_x_team[['agg_by_team_min', 'agg_by_team_max', 'agg_by_team_mean',\n",
    "       'agg_by_team_percentile_10', 'agg_by_team_percentile_90']]"
   ]
  },
  {
   "cell_type": "code",
   "execution_count": 55,
   "metadata": {
    "ExecuteTime": {
     "end_time": "2021-04-10T18:27:13.212790Z",
     "start_time": "2021-04-10T18:27:13.207794Z"
    },
    "hidden": true
   },
   "outputs": [],
   "source": [
    "test_prediction_model2 = model2.predict_proba(X_test_for_2nd_model)[:, 1]"
   ]
  },
  {
   "cell_type": "code",
   "execution_count": null,
   "metadata": {
    "ExecuteTime": {
     "end_time": "2021-04-10T18:35:42.330811Z",
     "start_time": "2021-04-10T18:35:42.326821Z"
    },
    "hidden": true
   },
   "outputs": [],
   "source": []
  },
  {
   "cell_type": "code",
   "execution_count": 65,
   "metadata": {
    "ExecuteTime": {
     "end_time": "2021-04-10T18:29:40.070752Z",
     "start_time": "2021-04-10T18:29:40.065732Z"
    },
    "hidden": true
   },
   "outputs": [
    {
     "data": {
      "text/plain": [
       "8750"
      ]
     },
     "execution_count": 65,
     "metadata": {},
     "output_type": "execute_result"
    }
   ],
   "source": [
    "test_prediction_model2.__len__()"
   ]
  },
  {
   "cell_type": "code",
   "execution_count": 61,
   "metadata": {
    "ExecuteTime": {
     "end_time": "2021-04-10T18:29:09.952494Z",
     "start_time": "2021-04-10T18:29:09.325166Z"
    },
    "hidden": true
   },
   "outputs": [],
   "source": [
    "# собрать результаты для сверки\n",
    "y_test_prob = \\\n",
    "test_df['mask'].apply(lambda x: sum([int(i) for i in x if re.match(\"\\d\", i)])) / \\\n",
    "test_df['mask'].apply(lambda x: sum([1 for i in x if re.match(\"\\d\", i)]))"
   ]
  },
  {
   "cell_type": "code",
   "execution_count": 69,
   "metadata": {
    "ExecuteTime": {
     "end_time": "2021-04-10T18:33:45.136883Z",
     "start_time": "2021-04-10T18:33:45.123890Z"
    },
    "hidden": true
   },
   "outputs": [],
   "source": [
    "#проверить, что в рамках одной команды таргеты равны\n",
    "to_check = test_df.reset_index().groupby(['tournament_id', 'team_id']).target.agg(['min', 'max'])\n",
    "assert to_check.loc[to_check['min'] != to_check['max']].shape[0] == 0"
   ]
  },
  {
   "cell_type": "code",
   "execution_count": 80,
   "metadata": {
    "ExecuteTime": {
     "end_time": "2021-04-10T18:57:09.883715Z",
     "start_time": "2021-04-10T18:57:09.862771Z"
    },
    "hidden": true
   },
   "outputs": [
    {
     "ename": "AssertionError",
     "evalue": "",
     "output_type": "error",
     "traceback": [
      "\u001b[1;31m---------------------------------------------------------------------------\u001b[0m",
      "\u001b[1;31mAssertionError\u001b[0m                            Traceback (most recent call last)",
      "\u001b[1;32m<ipython-input-80-39136f45cf1c>\u001b[0m in \u001b[0;36m<module>\u001b[1;34m\u001b[0m\n\u001b[0;32m      4\u001b[0m \u001b[0mto_check\u001b[0m\u001b[1;33m.\u001b[0m\u001b[0mloc\u001b[0m\u001b[1;33m[\u001b[0m\u001b[1;33m:\u001b[0m\u001b[1;33m,\u001b[0m \u001b[1;34m'prediction'\u001b[0m\u001b[1;33m]\u001b[0m \u001b[1;33m=\u001b[0m \u001b[0mtest_prediction_model2\u001b[0m\u001b[1;33m\u001b[0m\u001b[1;33m\u001b[0m\u001b[0m\n\u001b[0;32m      5\u001b[0m \u001b[0mto_check\u001b[0m \u001b[1;33m=\u001b[0m \u001b[0mto_check\u001b[0m\u001b[1;33m.\u001b[0m\u001b[0mreset_index\u001b[0m\u001b[1;33m(\u001b[0m\u001b[1;33m)\u001b[0m\u001b[1;33m.\u001b[0m\u001b[0mgroupby\u001b[0m\u001b[1;33m(\u001b[0m\u001b[1;33m[\u001b[0m\u001b[1;34m'tournament_id'\u001b[0m\u001b[1;33m,\u001b[0m \u001b[1;34m'team_id'\u001b[0m\u001b[1;33m]\u001b[0m\u001b[1;33m)\u001b[0m\u001b[1;33m.\u001b[0m\u001b[0mprediction\u001b[0m\u001b[1;33m.\u001b[0m\u001b[0magg\u001b[0m\u001b[1;33m(\u001b[0m\u001b[1;33m[\u001b[0m\u001b[1;34m'min'\u001b[0m\u001b[1;33m,\u001b[0m \u001b[1;34m'max'\u001b[0m\u001b[1;33m]\u001b[0m\u001b[1;33m)\u001b[0m\u001b[1;33m\u001b[0m\u001b[1;33m\u001b[0m\u001b[0m\n\u001b[1;32m----> 6\u001b[1;33m \u001b[1;32massert\u001b[0m \u001b[0mto_check\u001b[0m\u001b[1;33m.\u001b[0m\u001b[0mloc\u001b[0m\u001b[1;33m[\u001b[0m\u001b[0mto_check\u001b[0m\u001b[1;33m[\u001b[0m\u001b[1;34m'min'\u001b[0m\u001b[1;33m]\u001b[0m \u001b[1;33m!=\u001b[0m \u001b[0mto_check\u001b[0m\u001b[1;33m[\u001b[0m\u001b[1;34m'max'\u001b[0m\u001b[1;33m]\u001b[0m\u001b[1;33m]\u001b[0m\u001b[1;33m.\u001b[0m\u001b[0mshape\u001b[0m\u001b[1;33m[\u001b[0m\u001b[1;36m0\u001b[0m\u001b[1;33m]\u001b[0m \u001b[1;33m==\u001b[0m \u001b[1;36m0\u001b[0m\u001b[1;33m\u001b[0m\u001b[1;33m\u001b[0m\u001b[0m\n\u001b[0m",
      "\u001b[1;31mAssertionError\u001b[0m: "
     ]
    }
   ],
   "source": [
    "#проверить, что в рамках одной команды таргеты равны\n",
    "to_check = test_df.reset_index()[['tournament_id', 'team_id']].copy()\n",
    "\n",
    "to_check.loc[:, 'prediction'] = test_prediction_model2\n",
    "to_check = to_check.reset_index().groupby(['tournament_id', 'team_id']).prediction.agg(['min', 'max'])\n",
    "assert to_check.loc[to_check['min'] != to_check['max']].shape[0] == 0"
   ]
  },
  {
   "cell_type": "code",
   "execution_count": null,
   "metadata": {
    "hidden": true
   },
   "outputs": [],
   "source": []
  },
  {
   "cell_type": "code",
   "execution_count": 63,
   "metadata": {
    "ExecuteTime": {
     "end_time": "2021-04-10T18:29:18.559027Z",
     "start_time": "2021-04-10T18:29:18.555063Z"
    },
    "hidden": true
   },
   "outputs": [
    {
     "data": {
      "text/plain": [
       "8750"
      ]
     },
     "execution_count": 63,
     "metadata": {},
     "output_type": "execute_result"
    }
   ],
   "source": [
    "len(y_test_prob)"
   ]
  },
  {
   "cell_type": "markdown",
   "metadata": {
    "heading_collapsed": true
   },
   "source": [
    "## Предсказание по EM-алгоритму"
   ]
  },
  {
   "cell_type": "code",
   "execution_count": null,
   "metadata": {
    "hidden": true
   },
   "outputs": [],
   "source": []
  },
  {
   "cell_type": "code",
   "execution_count": null,
   "metadata": {
    "hidden": true
   },
   "outputs": [],
   "source": []
  },
  {
   "cell_type": "code",
   "execution_count": null,
   "metadata": {
    "hidden": true
   },
   "outputs": [],
   "source": []
  },
  {
   "cell_type": "markdown",
   "metadata": {},
   "source": [
    "## Предсказание сложности вопроса"
   ]
  },
  {
   "cell_type": "markdown",
   "metadata": {
    "heading_collapsed": true
   },
   "source": [
    "## Основные выводы"
   ]
  },
  {
   "cell_type": "code",
   "execution_count": null,
   "metadata": {
    "hidden": true
   },
   "outputs": [],
   "source": []
  },
  {
   "cell_type": "code",
   "execution_count": null,
   "metadata": {
    "hidden": true
   },
   "outputs": [],
   "source": []
  },
  {
   "cell_type": "code",
   "execution_count": null,
   "metadata": {
    "hidden": true
   },
   "outputs": [],
   "source": []
  },
  {
   "cell_type": "code",
   "execution_count": null,
   "metadata": {
    "hidden": true
   },
   "outputs": [],
   "source": []
  }
 ],
 "metadata": {
  "hide_input": false,
  "kernelspec": {
   "display_name": "Python 3",
   "language": "python",
   "name": "python3"
  },
  "language_info": {
   "codemirror_mode": {
    "name": "ipython",
    "version": 3
   },
   "file_extension": ".py",
   "mimetype": "text/x-python",
   "name": "python",
   "nbconvert_exporter": "python",
   "pygments_lexer": "ipython3",
   "version": "3.7.6"
  },
  "toc": {
   "base_numbering": 1,
   "nav_menu": {},
   "number_sections": true,
   "sideBar": true,
   "skip_h1_title": false,
   "title_cell": "Table of Contents",
   "title_sidebar": "Contents",
   "toc_cell": false,
   "toc_position": {},
   "toc_section_display": true,
   "toc_window_display": false
  },
  "varInspector": {
   "cols": {
    "lenName": 16,
    "lenType": 16,
    "lenVar": 40
   },
   "kernels_config": {
    "python": {
     "delete_cmd_postfix": "",
     "delete_cmd_prefix": "del ",
     "library": "var_list.py",
     "varRefreshCmd": "print(var_dic_list())"
    },
    "r": {
     "delete_cmd_postfix": ") ",
     "delete_cmd_prefix": "rm(",
     "library": "var_list.r",
     "varRefreshCmd": "cat(var_dic_list()) "
    }
   },
   "types_to_exclude": [
    "module",
    "function",
    "builtin_function_or_method",
    "instance",
    "_Feature"
   ],
   "window_display": false
  }
 },
 "nbformat": 4,
 "nbformat_minor": 4
}
