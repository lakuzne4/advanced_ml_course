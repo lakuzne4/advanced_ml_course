{
 "cells": [
  {
   "cell_type": "code",
   "execution_count": 1,
   "metadata": {
    "ExecuteTime": {
     "end_time": "2021-04-10T22:51:12.534914Z",
     "start_time": "2021-04-10T22:51:10.587040Z"
    }
   },
   "outputs": [],
   "source": [
    "import pandas as pd\n",
    "import numpy as np\n",
    "import matplotlib.pyplot as plt\n",
    "import pickle\n",
    "import re\n",
    "from typing import List, Dict\n",
    "\n",
    "from collections import namedtuple, Counter\n",
    "from tqdm import tqdm\n",
    "from sklearn.linear_model import LogisticRegression\n",
    "from sklearn.model_selection import cross_val_score\n",
    "from itertools import product\n",
    "from scipy.stats import spearmanr, kendalltau\n",
    "\n",
    "from scipy.special import expit\n",
    "from IPython.core.display import HTML, display"
   ]
  },
  {
   "cell_type": "markdown",
   "metadata": {},
   "source": [
    "## Посмотреть данные"
   ]
  },
  {
   "cell_type": "markdown",
   "metadata": {},
   "source": [
    "### Отобрать нужные записи из results"
   ]
  },
  {
   "cell_type": "code",
   "execution_count": 2,
   "metadata": {
    "ExecuteTime": {
     "end_time": "2021-04-10T22:52:32.352471Z",
     "start_time": "2021-04-10T22:51:12.536871Z"
    }
   },
   "outputs": [
    {
     "name": "stdout",
     "output_type": "stream",
     "text": [
      "Wall time: 1min 19s\n"
     ]
    }
   ],
   "source": [
    "%%time\n",
    "\n",
    "Records = namedtuple(\"Records\", (\"tournament_id\", \"t_start_date\", \"team_ind\", \"team_id\", \"players\", \"mask\",\n",
    "                                \"team_position\"))\n",
    "\n",
    "# получить словарь results с нужными результатами\n",
    "def get_results_dictionary():\n",
    "    \"\"\"получить нужные записи из results\"\"\"\n",
    "    with open(\"results.pkl\", 'rb') as f:\n",
    "        results_raw = pickle.load(f)\n",
    "\n",
    "    results = {}\n",
    "\n",
    "    for key, lst in results_raw.items():\n",
    "        for lst_el in lst:\n",
    "            if 'mask' in lst_el and lst_el['mask'] is not None \\\n",
    "                    and 'teamMembers' in lst_el and lst_el['teamMembers']:\n",
    "                results[key] = lst\n",
    "    return results\n",
    "            \n",
    "def get_tournaments_start_dates():\n",
    "    \"\"\"получить даты начала турниров из tournaments\"\"\"\n",
    "    with open(\"tournaments.pkl\", 'rb') as f:\n",
    "        tournaments_data = pickle.load(f)\n",
    "\n",
    "    tournaments_data = {key: value for key, value in tournaments_data.items() } # if key in tournaments}\n",
    "\n",
    "    tournaments_start_dates = {key: value['dateStart'] for key, value in tournaments_data.items()}\n",
    "\n",
    "    del tournaments_data\n",
    "    return tournaments_start_dates\n",
    "\n",
    "tournaments_results = get_results_dictionary()\n",
    "tournaments_start_dates = get_tournaments_start_dates()\n",
    "\n",
    "\n",
    "# разделить турниры из results на train и test\n",
    "plays_train = []\n",
    "plays_test = []\n",
    "for tournament_id, lst in tournaments_results.items():\n",
    "    if lst is not None:\n",
    "        for team_ind, lst_el in enumerate(lst):\n",
    "            if lst_el['teamMembers'] is not None and lst_el['mask'] is not None:\n",
    "                \n",
    "                team_members = lst_el['teamMembers']\n",
    "                players = [i['player']['id'] for i in team_members]\n",
    "                team_id = lst_el['team']['id']\n",
    "                team_position = lst_el['team']['position'] if 'position' in lst_el['team'] else None\n",
    "                mask = lst_el['mask']\n",
    "                start_date = tournaments_start_dates[tournament_id]\n",
    "                \n",
    "                if pd.to_datetime(start_date).year == 2019:\n",
    "                            # and any([i in players_sample_set for i in players]):\n",
    "                    plays_train.append(Records(tournament_id=tournament_id, \n",
    "                                         t_start_date=start_date,\n",
    "                                         team_ind=team_ind, \n",
    "                                         team_id=team_id, \n",
    "                                         players=players, \n",
    "                                         mask=mask,\n",
    "                                         team_position=team_position\n",
    "                                        )\n",
    "                                )\n",
    "                elif pd.to_datetime(start_date).year == 2020:\n",
    "                    plays_test.append(Records(tournament_id=tournament_id, \n",
    "                                         t_start_date=start_date,\n",
    "                                         team_ind=team_ind, \n",
    "                                         team_id=team_id, \n",
    "                                         players=players, \n",
    "                                         mask=mask,\n",
    "                                         team_position=team_position\n",
    "                                        )\n",
    "                                )     \n",
    "with open(\"plays_train.pkl\", 'wb') as f:\n",
    "    pickle.dump(plays_train, f)\n",
    "    \n",
    "with open(\"plays_test.pkl\", 'wb') as f:\n",
    "    pickle.dump(plays_test, f)\n",
    "    \n",
    "del tournaments_results"
   ]
  },
  {
   "cell_type": "markdown",
   "metadata": {},
   "source": [
    "## Построить baseline-модель"
   ]
  },
  {
   "cell_type": "markdown",
   "metadata": {},
   "source": [
    "Для предсказания результатов ответов на вопросы каждого игрока на этапе baseline, мы будем использовать исторические данные по его результатам. (На последующем этапе EM-алгоритма используется другой подход: лог. рег обучается на признаках бинарных признаках игрок-вопрос и сила игрока определяется как коэффициент в логистической регрессии)\n",
    "\n",
    "__Основные предпосылки:__\n",
    "\n",
    "- Игрок, в среднем, участвует в турнирах той же сложности в которых он участвовал ранее. Переходы в турниры более высокого уровня сложности происходят постепенно (если происходят)\n",
    "- Игрок, в среднем, играет в команде того же уровня, что и ранее.\n",
    "- Модель учитывает данные по всем предыдущим играм.\n",
    "- X - данные по предыдущим турнирам и их результатам. y - ответы на вопросы в текущей игре. Для каждого значения ответа на вопрос в текущей игре (значение y) на вход модели на этапе обучения будет подаваться одна и та же строка, отражающая результаты предыдущих турниров для данного игрока.\n",
    "- Для обучающей выборки выбираем один момент времени для каждого игрока, чтобы данные для обучения были максимально независимы. Если данных недостаточно, то можно выбрать и более одного момента для обучения."
   ]
  },
  {
   "cell_type": "markdown",
   "metadata": {},
   "source": [
    "### Выбрать моменты для обучения модели"
   ]
  },
  {
   "cell_type": "code",
   "execution_count": 3,
   "metadata": {
    "ExecuteTime": {
     "end_time": "2021-04-10T22:53:08.465406Z",
     "start_time": "2021-04-10T22:52:32.353452Z"
    }
   },
   "outputs": [
    {
     "name": "stderr",
     "output_type": "stream",
     "text": [
      "100%|█████████████████████████████████████████████████████████████████████████| 86499/86499 [00:01<00:00, 59041.63it/s]\n",
      "100%|█████████████████████████████████████████████████████████████████████████| 22395/22395 [00:00<00:00, 61346.51it/s]\n"
     ]
    },
    {
     "name": "stdout",
     "output_type": "stream",
     "text": [
      "New df.dtypes: \n",
      "------------------------------------------------------------------------------------------------------------------------\n",
      "player                    int32\n",
      "tournament_id             int32\n",
      "t_start_date     datetime64[ns]\n",
      "team_id                   int32\n",
      "mask                     object\n",
      "q_answered                int64\n",
      "q_total                   int64\n",
      "target                  float64\n",
      "dtype: object\n",
      "------------------------------------------------------------------------------------------------------------------------\n",
      "Число уникальных tournament_id (675, 2)\n",
      "New df.dtypes: \n",
      "------------------------------------------------------------------------------------------------------------------------\n",
      "player                    int32\n",
      "tournament_id             int32\n",
      "t_start_date     datetime64[ns]\n",
      "team_id                   int32\n",
      "mask                     object\n",
      "q_answered                int64\n",
      "q_total                   int64\n",
      "target                  float64\n",
      "dtype: object\n",
      "------------------------------------------------------------------------------------------------------------------------\n",
      "Число уникальных tournament_id (173, 2)\n",
      "Wall time: 36.1 s\n"
     ]
    }
   ],
   "source": [
    "%%time\n",
    "with open(\"plays_train.pkl\", 'rb') as f:\n",
    "    plays_train = pickle.load(f)\n",
    "    \n",
    "with open(\"plays_test.pkl\", 'rb') as f:\n",
    "    plays_test = pickle.load(f)\n",
    "\n",
    "def get_df_by_player_for_plays(plays):\n",
    "    \"\"\"взять каждую запись со списком игроков и развернуть её в DataFrame,\n",
    "       где каждая строка отражает игрока\n",
    "    \"\"\"\n",
    "    df = pd.DataFrame(columns=['player', 'tournament_id', 't_start_date', 'team_id', 'mask'])\n",
    "    to_concat = []\n",
    "    for record in tqdm(plays):\n",
    "        for player in record.players:\n",
    "            to_append = np.array(\n",
    "                [\n",
    "                [player, \n",
    "                 record.tournament_id, \n",
    "                 record.t_start_date, \n",
    "                 record.team_id, \n",
    "                 record.mask]\n",
    "                ]\n",
    "            )\n",
    "            to_concat.append(to_append)\n",
    "\n",
    "    to_concat = np.vstack(to_concat)\n",
    "\n",
    "    df = pd.DataFrame(to_concat, columns=['player', 'tournament_id', 't_start_date', 'team_id', 'mask'])\n",
    "\n",
    "    df = df.sort_values(by='player')\n",
    "    return df\n",
    "\n",
    "train_df = get_df_by_player_for_plays(plays_train)\n",
    "test_df = get_df_by_player_for_plays(plays_test)\n",
    "\n",
    "def add_target_features(df):\n",
    "    \"\"\"\n",
    "    первый шаг предобработки данных\n",
    "    1) поправить типы \n",
    "    2) добавить поле target на основе поля mask\n",
    "    3) отсортировать турниры игрока в хронологическом порядке\n",
    "    \n",
    "    Input:\n",
    "        df[['player', 'tournament_id', 't_start_date', 'team_id']]\n",
    "    \n",
    "    \"\"\"\n",
    "    df = df.astype({'player': int,\n",
    "                                'tournament_id': int,\n",
    "                                't_start_date': 'datetime64[ns]',\n",
    "                                'team_id': int,\n",
    "                                })\n",
    "\n",
    "    df.loc[:, 'q_answered'] = df['mask'].apply(lambda x: sum([int(i) for i in x if re.match(\"\\d\", i)]))\n",
    "    df.loc[:, 'q_total'] = df['mask'].str.len()\n",
    "\n",
    "    df.loc[:, 'target'] = df.q_answered / df.q_total\n",
    "\n",
    "    print(\"New df.dtypes: \\n\", \"-\" * 120, \"\\n\", df.dtypes, \"\\n\" ,\"-\" * 120, sep='')\n",
    "\n",
    "    df = df.sort_values(by=['player', 't_start_date'])\n",
    "\n",
    "    print(\"Число уникальных tournament_id\", \n",
    "          df[['tournament_id', 't_start_date']].drop_duplicates().shape\n",
    "         )\n",
    "    return df\n",
    "\n",
    "train_df = add_target_features(train_df)\n",
    "test_df = add_target_features(test_df)\n",
    "\n",
    "train_df.to_csv(\"train_df.csv\", index=False)\n",
    "test_df.to_csv(\"test_df.csv\", index=False)\n",
    "\n",
    "del train_df\n",
    "del test_df"
   ]
  },
  {
   "cell_type": "markdown",
   "metadata": {},
   "source": [
    "### Посчитать статистики для обучения"
   ]
  },
  {
   "cell_type": "code",
   "execution_count": 4,
   "metadata": {
    "ExecuteTime": {
     "end_time": "2021-04-10T22:53:08.486349Z",
     "start_time": "2021-04-10T22:53:08.466404Z"
    }
   },
   "outputs": [
    {
     "name": "stdout",
     "output_type": "stream",
     "text": [
      "Wall time: 0 ns\n"
     ]
    }
   ],
   "source": [
    "%%time\n",
    "def add_target_events_to_train(df):\n",
    "    df = df.sort_values(by=['player', 't_start_date'])\n",
    "    # игроки с более чем 3мя турнирами\n",
    "    df.loc[:, 'tournament_number'] = df.groupby(\"player\").tournament_id.cumcount() + 1\n",
    "    \n",
    "    players_with_tours = \\\n",
    "        df.groupby('player').tournament_number.max().loc[df.groupby('player').tournament_number.max() > 3].\\\n",
    "        index.tolist()\n",
    "\n",
    "    # случайно выбрать моменты для обучения по каждому игроку\n",
    "    moments_to_predict = \\\n",
    "        df.loc[df.player.isin(players_with_tours)].\\\n",
    "        groupby('player').tournament_number.max().apply(\n",
    "            lambda x: np.random.randint(4, x + 1)).reset_index()\n",
    "\n",
    "    # check uniqness\n",
    "    assert moments_to_predict.shape == moments_to_predict.drop_duplicates().shape\n",
    "\n",
    "    # проставить target_events\n",
    "    moments_to_predict.loc[:, 'target_event'] = 1\n",
    "    moments_to_predict.target_event = moments_to_predict.target_event.fillna(0)\n",
    "\n",
    "    # присоединить метку target_events к основному датасету\n",
    "    df = pd.merge(df, \n",
    "                  moments_to_predict,\n",
    "                  how='left',\n",
    "                  left_on=['player', 'tournament_number'],\n",
    "                  right_on=['player', 'tournament_number']\n",
    "                        )\n",
    "    print(\"Колонки: \", df.columns.tolist())\n",
    "    df.loc[:, 'target_event'] = df.target_event.fillna(0)\n",
    "    \n",
    "    df = df.drop(columns=['tournament_number'])\n",
    "    df = df.astype({\"target_event\": int})\n",
    "    \n",
    "    return df\n",
    "\n",
    "def add_basic_features_on_history(df):\n",
    "    \"\"\"\n",
    "    расчёт базовых фичей по историческим данным турниров:\n",
    "    ['tours_num', \n",
    "     'avg_pct_answered',\n",
    "     'min_pct_answered',\n",
    "     'max_pct_answered',\n",
    "     'pct_answered_q_10',\n",
    "     'pct_answered_q_50',\n",
    "     'pct_answered_q_90',\n",
    "    ]\n",
    "    \"\"\"\n",
    "    WINDOW_UPPER_BOUND = 100\n",
    "    \n",
    "    df.loc[:, 'tours_num'] = df.groupby('player').tournament_id.cumcount()\n",
    "\n",
    "    # среднее\n",
    "    df.loc[:, \"avg_pct_answered\"] = \\\n",
    "        (df.groupby(\"player\").q_answered.cumsum() - df.q_answered) / \\\n",
    "        (df.groupby(\"player\").q_total.cumsum() - df.q_total)\n",
    "\n",
    "    # минимум\n",
    "    df.loc[:, 'min_pct_answered'] = df.groupby('player').target.rolling(WINDOW_UPPER_BOUND,\n",
    "                                                                        min_periods=1).min().values\n",
    "    df.loc[:, 'min_pct_answered'] = df.groupby(\n",
    "        \"player\")['min_pct_answered'].shift(1)\n",
    "\n",
    "    # максимум\n",
    "    df.loc[:, 'max_pct_answered'] = df.groupby('player').target.rolling(WINDOW_UPPER_BOUND,\n",
    "                                                                        min_periods=1).max().values\n",
    "    df.loc[:, 'max_pct_answered'] = df.groupby(\n",
    "        \"player\")['max_pct_answered'].shift(1)\n",
    "\n",
    "    # квантили\n",
    "    df.loc[:, 'pct_answered_q_10'] = df.groupby('player').target.rolling(WINDOW_UPPER_BOUND,\n",
    "                                                                         min_periods=1).quantile(0.1).values\n",
    "    df.loc[:, 'pct_answered_q_10'] = df.groupby(\n",
    "        \"player\")['pct_answered_q_10'].shift(1)\n",
    "\n",
    "    df.loc[:, 'pct_answered_q_90'] = df.groupby('player').target.rolling(WINDOW_UPPER_BOUND,\n",
    "                                                                         min_periods=1).quantile(0.9).values\n",
    "    df.loc[:, 'pct_answered_q_90'] = df.groupby(\n",
    "        \"player\")['pct_answered_q_90'].shift(1)\n",
    "\n",
    "    df.loc[:, 'pct_answered_q_50'] = df.groupby('player').target.rolling(WINDOW_UPPER_BOUND,\n",
    "                                                                         min_periods=1).quantile(0.5).values\n",
    "    df.loc[:, 'pct_answered_q_50'] = df.groupby(\n",
    "        \"player\")['pct_answered_q_50'].shift(1)\n",
    "    return df\n",
    "\n",
    "def add_basic_features_on_history_for_test(train_df, test_df):\n",
    "    \"\"\"\n",
    "        для тестовой выборки используем историю по 2019 году (то есть по train выборке)\n",
    "    \"\"\"\n",
    "    train_df.loc[:, 'is_train_record'] = 1\n",
    "    test_df.loc[:, 'is_train_record'] = 0\n",
    "\n",
    "    # test_df_to_score = pd.concat([train_df[test_df.columns], test_df], axis=0)\n",
    "    test_df_to_score = test_df\n",
    "    \n",
    "    test_df_to_score = test_df_to_score.sort_values(by=['player', 't_start_date'])\n",
    "    test_df_to_score = add_basic_features_on_history(test_df_to_score)\n",
    "    \n",
    "    test_df = test_df_to_score.loc[test_df_to_score.is_train_record == 0]\n",
    "    test_df = test_df.sort_values(by=['player', 't_start_date'])\n",
    "    \n",
    "    train_df = train_df.drop(columns=['is_train_record'])\n",
    "    test_df = test_df.drop(columns=['is_train_record'])\n",
    "    \n",
    "    return train_df, test_df\n",
    "\n",
    "# посчитать X_train и y_train\n",
    "\n",
    "def get_X_y_train(train_df):\n",
    "    \"\"\" получить X_train и y_train для обучения на игроках, \n",
    "        а также meaning_col для идентификации игрока, турнира и вопроса\n",
    "    \"\"\"\n",
    "    \n",
    "    train_df = train_df.set_index(['player', 'tournament_id'])\n",
    "    train_df = train_df.loc[train_df.target_event == 1]\n",
    "    \n",
    "    X_train = []\n",
    "    y_train = np.array([])\n",
    "    \n",
    "    mask_lengths = [len([j for j in i[-1] if re.match(\"\\d\", j)]) for i in train_df[['mask']].values]\n",
    "    \n",
    "    X_y_train = \\\n",
    "    np.vstack(\n",
    "    [np.hstack([\n",
    "        np.tile(i[:-1], (mask_lengths[item_number], 1)),\n",
    "        np.array([int(j) for j in i[-1] if re.match(\"\\d\", j)]).reshape(-1, 1)\n",
    "    ]\n",
    "    )\n",
    "        for item_number, i in enumerate(train_df[[\n",
    "                                 'tours_num',\n",
    "                                 'avg_pct_answered',\n",
    "                                 'min_pct_answered',\n",
    "                                 'max_pct_answered',\n",
    "                                 'pct_answered_q_10',\n",
    "                                 'pct_answered_q_90',\n",
    "                                 'pct_answered_q_50',\n",
    "                                 'mask']].values)])\n",
    "    \n",
    "    # сохранить индесы для X_train и y_train\n",
    "    X_y_meaning = \\\n",
    "    np.vstack(\n",
    "        [np.tile(ind, (mask_lengths[ind_number], 1))\n",
    "        for ind_number, ind in enumerate(train_df.index)]\n",
    "    )\n",
    "    X_y_meaning = pd.DataFrame(X_y_meaning, columns=['player', 'tournament'])\n",
    "    X_y_meaning.loc[:, 'question_number'] = X_y_meaning.groupby(['player', 'tournament']).tournament.cumcount() + 1\n",
    "    \n",
    "    return X_y_train[:, : -1], X_y_train[:, -1], X_y_meaning\n",
    "\n",
    "# аналогично на тесте\n",
    "def get_X_y_test(test_df):\n",
    "    \"\"\" получить X_test и y_test для обучения на игроках\"\"\"\n",
    "    test_df = test_df.set_index(['player', 'tournament_id'])\n",
    "    \n",
    "    X_test = []\n",
    "    y_test = []\n",
    "\n",
    "    X_test = test_df[['tours_num',\n",
    "                      'avg_pct_answered',\n",
    "                      'min_pct_answered',\n",
    "                      'max_pct_answered',\n",
    "                      'pct_answered_q_10',\n",
    "                      'pct_answered_q_90',\n",
    "                      'pct_answered_q_50',\n",
    "                      'mask']]\n",
    "    \n",
    "    y_test_prob = \\\n",
    "            test_df['mask'].apply(lambda x: sum([int(i) for i in x if re.match(\"\\d\", i)])) / \\\n",
    "            test_df['mask'].apply(lambda x: sum([1 for i in x if re.match(\"\\d\", i)]))\n",
    "\n",
    "    return X_test, y_test_prob"
   ]
  },
  {
   "cell_type": "code",
   "execution_count": 5,
   "metadata": {
    "ExecuteTime": {
     "end_time": "2021-04-10T22:56:18.562863Z",
     "start_time": "2021-04-10T22:53:08.488373Z"
    }
   },
   "outputs": [
    {
     "name": "stdout",
     "output_type": "stream",
     "text": [
      "Колонки:  ['player', 'tournament_id', 't_start_date', 'team_id', 'mask', 'q_answered', 'q_total', 'target', 'tournament_number', 'target_event']\n"
     ]
    }
   ],
   "source": [
    "train_df = pd.read_csv(\"train_df.csv\")\n",
    "test_df = pd.read_csv(\"test_df.csv\")\n",
    "\n",
    "#############################  проставить target_events ###########################################################\n",
    "\n",
    "train_df = add_target_events_to_train(train_df) # на train обучаемся только на одном событии по каждому игроку\n",
    "test_df.loc[:, 'target_event'] = 1 # для теста делаем предсказания на всех событиях\n",
    "\n",
    "# колонки train и test одинаковые\n",
    "assert (train_df.columns == test_df.columns).all()\n",
    "\n",
    "#############################  добавить признаки для обучения #####################################################\n",
    "\n",
    "train_df = add_basic_features_on_history(train_df)\n",
    "train_df, test_df  = add_basic_features_on_history_for_test(train_df, test_df)\n",
    "\n",
    "assert (train_df.columns == test_df.columns).all()\n",
    "\n",
    "assert \\\n",
    "    train_df.loc[train_df.target_event == 1][['player', 'tournament_id']].shape == \\\n",
    "    train_df.loc[train_df.target_event == 1][[\n",
    "        'player', 'tournament_id']].drop_duplicates().shape\n",
    "\n",
    "#############################  посчитать выборки для обучения и сохранить #########################################\n",
    "\n",
    "X_train, y_train, X_y_meaning = get_X_y_train(train_df)\n",
    "\n",
    "with open(\"train_X_y.pkl\", \"wb\") as f:\n",
    "    pickle.dump([X_train, y_train, X_y_meaning], f)\n",
    "\n",
    "\n",
    "#############################  посчитать выборки для проверки и сохранить #########################################\n",
    "\n",
    "X_test, y_test_prob = get_X_y_test(test_df)\n",
    "\n",
    "X_test = X_test.iloc[:, :-1]\n",
    "\n",
    "with open(\"test_X_y.pkl\", \"wb\") as f:\n",
    "    pickle.dump([X_test, y_test_prob], f)\n",
    "\n",
    "############################  сохранить train_df и test_df с посчитанными статистиками #############################\n",
    "\n",
    "train_df.to_csv(\"train_df.csv\", index=False)\n",
    "test_df.to_csv(\"test_df.csv\", index=False)"
   ]
  },
  {
   "cell_type": "markdown",
   "metadata": {},
   "source": [
    "### Обучить модель"
   ]
  },
  {
   "cell_type": "code",
   "execution_count": 6,
   "metadata": {
    "ExecuteTime": {
     "end_time": "2021-04-10T22:56:19.214119Z",
     "start_time": "2021-04-10T22:56:18.563846Z"
    }
   },
   "outputs": [],
   "source": [
    "with open(\"train_X_y.pkl\", \"rb\") as f:\n",
    "    X_train, y_train, X_y_meaning = pickle.load(f)\n",
    "\n",
    "with open(\"test_X_y.pkl\", \"rb\") as f:\n",
    "    X_test, y_test_prob = pickle.load(f)"
   ]
  },
  {
   "cell_type": "code",
   "execution_count": 7,
   "metadata": {
    "ExecuteTime": {
     "end_time": "2021-04-10T22:56:25.869282Z",
     "start_time": "2021-04-10T22:56:19.216094Z"
    }
   },
   "outputs": [
    {
     "data": {
      "text/plain": [
       "LogisticRegression(C=1, class_weight=None, dual=False, fit_intercept=True,\n",
       "                   intercept_scaling=1, l1_ratio=None, max_iter=100,\n",
       "                   multi_class='auto', n_jobs=None, penalty='l2',\n",
       "                   random_state=None, solver='lbfgs', tol=0.0001, verbose=0,\n",
       "                   warm_start=False)"
      ]
     },
     "execution_count": 7,
     "metadata": {},
     "output_type": "execute_result"
    }
   ],
   "source": [
    "model = LogisticRegression(C=1)\n",
    "model.fit(X_train.astype(np.float32), y_train.astype(int))"
   ]
  },
  {
   "cell_type": "code",
   "execution_count": 8,
   "metadata": {
    "ExecuteTime": {
     "end_time": "2021-04-10T22:56:25.877260Z",
     "start_time": "2021-04-10T22:56:25.871276Z"
    }
   },
   "outputs": [
    {
     "data": {
      "text/plain": [
       "(1046434, 7)"
      ]
     },
     "execution_count": 8,
     "metadata": {},
     "output_type": "execute_result"
    }
   ],
   "source": [
    "X_train.shape"
   ]
  },
  {
   "cell_type": "code",
   "execution_count": 9,
   "metadata": {
    "ExecuteTime": {
     "end_time": "2021-04-10T22:56:25.896209Z",
     "start_time": "2021-04-10T22:56:25.879255Z"
    }
   },
   "outputs": [],
   "source": [
    "y_prob_predicted = model.predict_proba(X_test.fillna(0))[:, 1]"
   ]
  },
  {
   "cell_type": "code",
   "execution_count": 10,
   "metadata": {
    "ExecuteTime": {
     "end_time": "2021-04-10T22:56:25.904188Z",
     "start_time": "2021-04-10T22:56:25.898204Z"
    }
   },
   "outputs": [],
   "source": [
    "with open(\"baseline_model.pkl\", \"wb\") as f:\n",
    "    pickle.dump(model, f)"
   ]
  },
  {
   "cell_type": "markdown",
   "metadata": {},
   "source": [
    "### Проверить качество модели на турнирах"
   ]
  },
  {
   "cell_type": "code",
   "execution_count": 11,
   "metadata": {
    "ExecuteTime": {
     "end_time": "2021-04-10T22:56:26.153563Z",
     "start_time": "2021-04-10T22:56:25.905185Z"
    }
   },
   "outputs": [],
   "source": [
    "test_df = pd.read_csv(\"test_df.csv\")\n",
    "\n",
    "with open(\"baseline_model.pkl\", \"rb\") as f:\n",
    "    model = pickle.load(f)"
   ]
  },
  {
   "cell_type": "code",
   "execution_count": 12,
   "metadata": {
    "ExecuteTime": {
     "end_time": "2021-04-10T22:56:26.353358Z",
     "start_time": "2021-04-10T22:56:26.155516Z"
    }
   },
   "outputs": [],
   "source": [
    "# возьмём предсказанный и актуальный процент ответов и проверим корреляцию Спирмена и Кендалла\n",
    "\n",
    "test_predicted_vs_actual_df = \\\n",
    "pd.concat([y_test_prob.rename(\"Actual\"), \n",
    "           pd.Series(y_prob_predicted, index=y_test_prob.index, name='Predicted') \n",
    "          ], \n",
    "          axis=1)\n",
    "\n",
    "assert \\\n",
    "test_df[['player', 'tournament_id', 'team_id']].shape == \\\n",
    "test_df[['player', 'tournament_id', 'team_id']].drop_duplicates().shape\n",
    "\n",
    "# посчитать рейтинг команды в каждом турнире\n",
    "predicted_team_rating = \\\n",
    "pd.merge(test_predicted_vs_actual_df, \n",
    "         test_df[['player', 'tournament_id', 'team_id']],\n",
    "         how='left',\n",
    "         left_index=True,\n",
    "         right_on=['player', 'tournament_id']\n",
    "        ).groupby(['team_id', 'tournament_id']).Predicted.mean().reset_index()\n",
    "\n",
    "predicted_team_rating = predicted_team_rating.sort_values(by=['tournament_id', 'Predicted'],\n",
    "                                             ascending=[True, False])\n",
    "\n",
    "\n",
    "predicted_team_rating.loc[:, 'predicted_place_in_tourmanent'] = \\\n",
    "predicted_team_rating.groupby('tournament_id').cumcount(\"team_id\") + 1\n",
    "\n",
    "# актуальные результаты должны быть равны для всех игроков в команде, проверим это\n",
    "to_check = \\\n",
    "pd.merge(test_predicted_vs_actual_df, \n",
    "         test_df[['player', 'tournament_id', 'team_id']],\n",
    "         how='left',\n",
    "         left_index=True,\n",
    "         right_on=['player', 'tournament_id']\n",
    "        ).groupby(['team_id', 'tournament_id']).Actual.agg(['min', 'max', 'mean'])\n",
    "\n",
    "assert (to_check['min'] == to_check['max']).all()\n",
    "del to_check\n",
    "\n",
    "\n",
    "actual_test_positions = \\\n",
    "pd.merge(test_predicted_vs_actual_df, \n",
    "         test_df[['player', 'tournament_id', 'team_id']],\n",
    "         how='left',\n",
    "         left_index=True,\n",
    "         right_on=['player', 'tournament_id']\n",
    "        ).groupby(['team_id', 'tournament_id']).Actual.mean().reset_index()\n",
    "\n",
    "\n",
    "to_compare = \\\n",
    "pd.merge(\n",
    "    predicted_team_rating,\n",
    "    actual_test_positions,\n",
    "    how='left',\n",
    "    left_on = ['team_id', 'tournament_id'],\n",
    "    right_on = ['team_id', 'tournament_id']\n",
    ")\n",
    "\n",
    "to_compare = to_compare.sort_values(by=['tournament_id', 'Actual'], ascending=[True, False])\n",
    "\n",
    "to_compare.loc[:, \"actual_place_in_tourmanent\"] = to_compare.groupby(\"tournament_id\").team_id.cumcount() + 1"
   ]
  },
  {
   "cell_type": "code",
   "execution_count": 13,
   "metadata": {
    "ExecuteTime": {
     "end_time": "2021-04-10T22:56:26.373302Z",
     "start_time": "2021-04-10T22:56:26.354352Z"
    }
   },
   "outputs": [
    {
     "name": "stdout",
     "output_type": "stream",
     "text": [
      "Спирмен: SpearmanrResult(correlation=0.8467659826629927, pvalue=0.0)\n",
      "Кендалл: KendalltauResult(correlation=0.6779845512535798, pvalue=0.0)\n",
      "\n"
     ]
    }
   ],
   "source": [
    "print(\n",
    "\"Спирмен: \",\n",
    "spearmanr(to_compare['predicted_place_in_tourmanent'], \n",
    "          to_compare['actual_place_in_tourmanent']), \"\\n\",\n",
    "\"Кендалл: \",\n",
    "kendalltau(to_compare['predicted_place_in_tourmanent'], \n",
    "          to_compare['actual_place_in_tourmanent']), \"\\n\"\n",
    ", sep=\"\")"
   ]
  },
  {
   "cell_type": "markdown",
   "metadata": {},
   "source": [
    "### Модель/расчёт для сложности вопросов"
   ]
  },
  {
   "cell_type": "code",
   "execution_count": 14,
   "metadata": {
    "ExecuteTime": {
     "end_time": "2021-04-10T22:56:28.272521Z",
     "start_time": "2021-04-10T22:56:26.375296Z"
    }
   },
   "outputs": [],
   "source": [
    "train_df = pd.read_csv(\"train_df.csv\")\n",
    "test_df = pd.read_csv(\"test_df.csv\")\n",
    "\n",
    "with open(\"train_X_y.pkl\", \"rb\") as f:\n",
    "    X_train, y_train, train_X_y_meaning = pickle.load(f)\n",
    "\n",
    "with open(\"test_X_y.pkl\", \"rb\") as f:\n",
    "    X_test, y_test_prob = pickle.load(f)\n",
    "    \n",
    "with open(\"baseline_model.pkl\", \"rb\") as f:\n",
    "    model = pickle.load(f)"
   ]
  },
  {
   "cell_type": "code",
   "execution_count": 15,
   "metadata": {
    "ExecuteTime": {
     "end_time": "2021-04-10T22:56:33.490449Z",
     "start_time": "2021-04-10T22:56:28.273396Z"
    }
   },
   "outputs": [],
   "source": [
    "# посчитать процент ответов\n",
    "tournaments_for_train = train_df.groupby(\"tournament_id\").team_id.nunique().\\\n",
    "loc[train_df.groupby(\"tournament_id\").team_id.nunique() > 10].index\n",
    "\n",
    "tournament_x_question = []\n",
    "for ind, group in train_df[['tournament_id', 'team_id', \"mask\"]].drop_duplicates().groupby(\"tournament_id\"):\n",
    "    function_to_apply = lambda x: np.array([int(i) for i in x.replace(\"?\", \"0\") if re.match(\"\\d\", i)])\n",
    "    \n",
    "    lists = group['mask'].apply(function_to_apply)\n",
    "    # привести длины в порядок\n",
    "    lists = list(zip(*lists))\n",
    "    pct_answered = np.vstack(lists).mean(axis=0)\n",
    "    \n",
    "    by_tournament = [(i[0], ind + 1, i[1])  for ind, i in enumerate(product([ind], pct_answered))]\n",
    "    tournament_x_question.append(by_tournament)"
   ]
  },
  {
   "cell_type": "code",
   "execution_count": 16,
   "metadata": {
    "ExecuteTime": {
     "end_time": "2021-04-10T22:56:33.495396Z",
     "start_time": "2021-04-10T22:56:33.491406Z"
    }
   },
   "outputs": [],
   "source": [
    "features = [ 'tours_num',\n",
    "             'avg_pct_answered',\n",
    "             'min_pct_answered',\n",
    "             'max_pct_answered',\n",
    "             'pct_answered_q_10',\n",
    "             'pct_answered_q_90',\n",
    "             'pct_answered_q_50']"
   ]
  },
  {
   "cell_type": "code",
   "execution_count": 17,
   "metadata": {
    "ExecuteTime": {
     "end_time": "2021-04-10T22:56:33.867611Z",
     "start_time": "2021-04-10T22:56:33.497389Z"
    }
   },
   "outputs": [],
   "source": [
    "# посчитаем рейтинг команд\n",
    "predictions = model.predict_proba(train_df[features].fillna(0))[:, 1]\n",
    "\n",
    "\n",
    "for_team_rating = train_df[['team_id', \"tournament_id\", 'mask']].reset_index()\n",
    "\n",
    "for_team_rating.loc[:, 'predicted_rating'] = predictions\n",
    "\n",
    "team_rating = for_team_rating.groupby(['team_id', 'tournament_id', 'mask']).predicted_rating.mean().reset_index()"
   ]
  },
  {
   "cell_type": "code",
   "execution_count": 18,
   "metadata": {
    "ExecuteTime": {
     "end_time": "2021-04-10T22:56:33.871649Z",
     "start_time": "2021-04-10T22:56:33.868611Z"
    }
   },
   "outputs": [],
   "source": [
    "# визуальная проверка на одинаковое число вопросов\n",
    "# team_rating.assign(mask_length = team_rating['mask'].str.len()).groupby('tournament_id').mask_length.agg(['min','max','mean'])"
   ]
  },
  {
   "cell_type": "code",
   "execution_count": 19,
   "metadata": {
    "ExecuteTime": {
     "end_time": "2021-04-10T22:56:34.048385Z",
     "start_time": "2021-04-10T22:56:33.872600Z"
    }
   },
   "outputs": [
    {
     "data": {
      "image/png": "[encoded data removed]",
      "text/plain": [
       "<Figure size 1296x432 with 1 Axes>"
      ]
     },
     "metadata": {
      "needs_background": "light"
     },
     "output_type": "display_data"
    }
   ],
   "source": [
    "# распределение команд по предсказанному рейтингу\n",
    "plt.figure(figsize=(18, 6))\n",
    "plt.hist(team_rating.predicted_rating, \n",
    "         bins=np.arange(0, 1.1, 0.05), \n",
    "         histtype='step',\n",
    "         cumulative=False,\n",
    "         density=True,\n",
    "         linewidth=2\n",
    "        );\n",
    "plt.title(\"Плотность распределения команд по предсказанному рейтингу\")\n",
    "plt.grid(True)\n",
    "plt.show()"
   ]
  },
  {
   "cell_type": "code",
   "execution_count": 20,
   "metadata": {
    "ExecuteTime": {
     "end_time": "2021-04-10T22:56:53.725738Z",
     "start_time": "2021-04-10T22:56:34.049367Z"
    }
   },
   "outputs": [
    {
     "name": "stderr",
     "output_type": "stream",
     "text": [
      "100%|████████████████████████████████████████████████████████████████████████████████| 675/675 [00:19<00:00, 34.53it/s]\n"
     ]
    },
    {
     "name": "stdout",
     "output_type": "stream",
     "text": [
      "Wall time: 19.7 s\n"
     ]
    }
   ],
   "source": [
    "%%time\n",
    "q_complexities = []\n",
    "for tournament_id, group in tqdm(team_rating.groupby('tournament_id')):\n",
    "    # print(group['mask'].str.len().min())\n",
    "    for q_number in range(1,  group['mask'].str.len().min() + 1):\n",
    "        q_complexity = group.loc[group['mask'].apply(lambda x: x[q_number - 1] == '1')].predicted_rating.mean()\n",
    "        q_complexities.append((tournament_id, q_number, q_complexity))\n",
    "\n",
    "q_complexities = pd.DataFrame(q_complexities, columns=['tournament_id', 'q_number', 'q_complexity'])\n",
    "\n",
    "q_complexities.to_csv(\"q_complexities.csv\", index=False)"
   ]
  },
  {
   "cell_type": "markdown",
   "metadata": {
    "heading_collapsed": true
   },
   "source": [
    "##  Способ ранжирования команд на основе рейтинга игроков"
   ]
  },
  {
   "cell_type": "markdown",
   "metadata": {
    "hidden": true
   },
   "source": [
    "- рейтинг игрока по baseline-модели - оценка вероятности, что команда этого игрока правильно ответит на этот вопрос\n",
    "- возьмём числовые характеристики рейтингов игроков в команде (среднее, медиана, процентили) и обучим модель на этих рейтингах\n",
    "\n",
    "\n",
    "__предпосылки:__\n",
    "- рейтинг игроков якобы не содержит информации о целевой переменной (несмотря на, то, что предпосылка нарушается можно сказать, что рейтинг игроков содержит мало информации о результате конкретной игры и попробовать обучить веса логистической регрессии на характеристиках распределения (min, max, avg, квантили) рейтингов игроков в команде)"
   ]
  },
  {
   "cell_type": "markdown",
   "metadata": {
    "hidden": true
   },
   "source": [
    "### Возьмём модель для baseline и обучим вторую модель поверх её предсказаний"
   ]
  },
  {
   "cell_type": "code",
   "execution_count": 21,
   "metadata": {
    "ExecuteTime": {
     "end_time": "2021-04-10T22:56:55.547087Z",
     "start_time": "2021-04-10T22:56:53.726722Z"
    },
    "hidden": true
   },
   "outputs": [],
   "source": [
    "train_df = pd.read_csv(\"train_df.csv\")\n",
    "test_df = pd.read_csv(\"test_df.csv\")\n",
    "\n",
    "with open(\"train_X_y.pkl\", \"rb\") as f:\n",
    "    X_train, y_train, X_y_meaning = pickle.load(f)\n",
    "\n",
    "with open(\"test_X_y.pkl\", \"rb\") as f:\n",
    "    X_test, y_test_prob = pickle.load(f)\n",
    "    \n",
    "with open(\"baseline_model.pkl\", \"rb\") as f:\n",
    "    model = pickle.load(f)\n",
    "    \n",
    "features = ['tours_num',\n",
    "            'avg_pct_answered',\n",
    "            'min_pct_answered',\n",
    "            'max_pct_answered',\n",
    "            'pct_answered_q_10',\n",
    "            'pct_answered_q_90',\n",
    "            'pct_answered_q_50']\n",
    "\n",
    "def percentile(n):\n",
    "    def percentile_(x):\n",
    "        return np.percentile(x, n)\n",
    "    percentile_.__name__ = f\"percentile_{n}\"\n",
    "    return percentile_"
   ]
  },
  {
   "cell_type": "code",
   "execution_count": 22,
   "metadata": {
    "ExecuteTime": {
     "end_time": "2021-04-10T22:56:55.552114Z",
     "start_time": "2021-04-10T22:56:55.550114Z"
    },
    "hidden": true
   },
   "outputs": [],
   "source": [
    "# q_complexities = pd.read_csv(\"q_complexities.csv\")"
   ]
  },
  {
   "cell_type": "code",
   "execution_count": 23,
   "metadata": {
    "ExecuteTime": {
     "end_time": "2021-04-10T22:57:21.369610Z",
     "start_time": "2021-04-10T22:56:55.554071Z"
    },
    "hidden": true
   },
   "outputs": [],
   "source": [
    "def add_features(df, model):\n",
    "    \"\"\"посчитать предсказания модели на игроках из df\"\"\"\n",
    "    prediction = model.predict_proba(df[features].fillna(0))[:, 1]\n",
    "    train_to_aggregate_personal_ratings = df[['player', 'tournament_id', 'team_id']].copy()\n",
    "    train_to_aggregate_personal_ratings.loc[:, 'player_rating'] = prediction\n",
    "\n",
    "    train_by_team = train_to_aggregate_personal_ratings[['player',\n",
    "                                                         'tournament_id',\n",
    "                                                         'team_id',\n",
    "                                                         'player_rating']].drop_duplicates()\\\n",
    "        .groupby([\"team_id\",\n",
    "                  \"tournament_id\"]).player_rating.agg([\n",
    "                      'min',\n",
    "                      'max',\n",
    "                      'mean',\n",
    "                      percentile(10),\n",
    "                      percentile(90)\n",
    "                  ]\n",
    "    )\n",
    "\n",
    "    train_by_team.columns = [\"agg_by_team_\" + i for i in train_by_team.columns]\n",
    "    return train_by_team\n",
    "\n",
    "def get_train_sample(train_by_team, train_df):\n",
    "    # развернём DataFrame вдоль маски\n",
    "    to_ravel = train_df[['team_id', 'tournament_id', 'mask']].drop_duplicates()\n",
    "    to_ravel_along = [np.array([int(j) for j in i if re.match(\"\\d\", j)], dtype=np.int) for i in to_ravel['mask']]\n",
    "\n",
    "    def ravel_df_values(df_to_ravel: pd.DataFrame, values_to_ravel_along: List[np.array]):\n",
    "        mask_lengths = [len(j) for j in values_to_ravel_along]\n",
    "\n",
    "        raveled_values = \\\n",
    "        np.hstack(\n",
    "            [\n",
    "                np.vstack(\n",
    "                    [np.tile(row[:-1], (mask_lengths[item_number] , 1))\n",
    "                        for item_number, row in enumerate(df_to_ravel.values)\n",
    "                    ]\n",
    "                ),\n",
    "                np.hstack(values_to_ravel_along).reshape(-1, 1)\n",
    "            ]   \n",
    "        )\n",
    "        return raveled_values\n",
    "\n",
    "    raveled_df = ravel_df_values(to_ravel, to_ravel_along)\n",
    "    raveled_df = pd.DataFrame(raveled_df, columns = ['team_id', 'tournament_id', 'target'])\n",
    "\n",
    "    train_by_team = \\\n",
    "    pd.merge(train_by_team, raveled_df.set_index(['team_id', 'tournament_id']),\n",
    "                                                how='inner',\n",
    "            left_index=True,\n",
    "            right_index=True)\n",
    "    return train_by_team\n",
    "\n",
    "# def add_prob_target(df, ):\n",
    "#     df.loc[:, 'prob_target'] = df.groupby(['team_id', 'tournament_id'])[['target']].mean()\n",
    "#     return df\n",
    "\n",
    "\n",
    "train_by_team = add_features(train_df, model)\n",
    "train_by_team = get_train_sample(train_by_team, train_df)"
   ]
  },
  {
   "cell_type": "code",
   "execution_count": 24,
   "metadata": {
    "ExecuteTime": {
     "end_time": "2021-04-10T22:57:25.634357Z",
     "start_time": "2021-04-10T22:57:21.370590Z"
    },
    "hidden": true
   },
   "outputs": [],
   "source": [
    "test_by_team = add_features(test_df, model)"
   ]
  },
  {
   "cell_type": "code",
   "execution_count": 25,
   "metadata": {
    "ExecuteTime": {
     "end_time": "2021-04-10T22:57:25.655352Z",
     "start_time": "2021-04-10T22:57:25.635176Z"
    },
    "hidden": true
   },
   "outputs": [],
   "source": [
    "test_by_team.loc[:, 'prob_target'] = test_df.groupby(['team_id', 'tournament_id'])[['target']].mean()"
   ]
  },
  {
   "cell_type": "code",
   "execution_count": 26,
   "metadata": {
    "ExecuteTime": {
     "end_time": "2021-04-10T22:57:55.669754Z",
     "start_time": "2021-04-10T22:57:25.656352Z"
    },
    "hidden": true
   },
   "outputs": [
    {
     "data": {
      "text/plain": [
       "LogisticRegression(C=0.01, class_weight=None, dual=False, fit_intercept=True,\n",
       "                   intercept_scaling=1, l1_ratio=None, max_iter=100,\n",
       "                   multi_class='auto', n_jobs=None, penalty='l2',\n",
       "                   random_state=None, solver='saga', tol=0.0001, verbose=0,\n",
       "                   warm_start=False)"
      ]
     },
     "execution_count": 26,
     "metadata": {},
     "output_type": "execute_result"
    }
   ],
   "source": [
    "model2 = LogisticRegression(C=0.01, penalty='l2', solver='saga')\n",
    "model2.fit(\n",
    "    train_by_team.drop(columns=['target']).values,\n",
    "    train_by_team['target'].values.astype(int)\n",
    ")"
   ]
  },
  {
   "cell_type": "code",
   "execution_count": 27,
   "metadata": {
    "ExecuteTime": {
     "end_time": "2021-04-10T22:57:55.674690Z",
     "start_time": "2021-04-10T22:57:55.670698Z"
    },
    "hidden": true
   },
   "outputs": [
    {
     "name": "stdout",
     "output_type": "stream",
     "text": [
      "Coefficients: [[-0.38802491  0.82686025  1.54717485  0.30835788  1.21084941]]\n",
      "Intercept: [-1.84457221]\n"
     ]
    }
   ],
   "source": [
    "print(\"Coefficients:\", model2.coef_)\n",
    "print(\"Intercept:\", model2.intercept_)"
   ]
  },
  {
   "cell_type": "code",
   "execution_count": 28,
   "metadata": {
    "ExecuteTime": {
     "end_time": "2021-04-10T22:57:55.683697Z",
     "start_time": "2021-04-10T22:57:55.676683Z"
    },
    "hidden": true
   },
   "outputs": [
    {
     "data": {
      "text/plain": [
       "(112841,)"
      ]
     },
     "execution_count": 28,
     "metadata": {},
     "output_type": "execute_result"
    }
   ],
   "source": [
    "y_test_prob.shape"
   ]
  },
  {
   "cell_type": "code",
   "execution_count": 29,
   "metadata": {
    "ExecuteTime": {
     "end_time": "2021-04-10T22:57:55.692641Z",
     "start_time": "2021-04-10T22:57:55.684697Z"
    },
    "hidden": true
   },
   "outputs": [],
   "source": [
    "test_model_prediction = model2.predict_proba(test_by_team.drop(columns=['prob_target']))[:, 1]"
   ]
  },
  {
   "cell_type": "code",
   "execution_count": 30,
   "metadata": {
    "ExecuteTime": {
     "end_time": "2021-04-10T22:57:55.841242Z",
     "start_time": "2021-04-10T22:57:55.694634Z"
    },
    "hidden": true
   },
   "outputs": [],
   "source": [
    "merged = \\\n",
    "pd.merge(\n",
    "pd.DataFrame(test_model_prediction.reshape(-1, 1), index=test_by_team.index, columns=['Prediction']),\n",
    "test_df.groupby(['tournament_id', 'team_id']).target.mean().to_frame().rename(columns={'target': 'Actual_result'}),\n",
    "    how='inner',\n",
    "    left_index=True,\n",
    "    right_index=True)\n",
    "\n",
    "merged = merged.reset_index().sort_values(by=['tournament_id', 'Actual_result'], ascending=[True, False])\n",
    "merged.loc[:, 'Actual_place_in_tournament'] = merged.groupby('tournament_id').team_id.cumcount() + 1"
   ]
  },
  {
   "cell_type": "code",
   "execution_count": 31,
   "metadata": {
    "ExecuteTime": {
     "end_time": "2021-04-10T22:57:55.863183Z",
     "start_time": "2021-04-10T22:57:55.843237Z"
    },
    "hidden": true
   },
   "outputs": [],
   "source": [
    "merged = merged.sort_values(by=['tournament_id', 'Prediction'], ascending=[True, False])\n",
    "merged.loc[:, 'predicted_place_in_tournament'] = merged.groupby('tournament_id').team_id.cumcount() + 1"
   ]
  },
  {
   "cell_type": "code",
   "execution_count": 32,
   "metadata": {
    "ExecuteTime": {
     "end_time": "2021-04-10T22:57:55.881136Z",
     "start_time": "2021-04-10T22:57:55.865178Z"
    },
    "hidden": true
   },
   "outputs": [
    {
     "name": "stdout",
     "output_type": "stream",
     "text": [
      "Спирмен: SpearmanrResult(correlation=0.8567137800219694, pvalue=0.0)\n",
      "Кендалл: KendalltauResult(correlation=0.6932473181210744, pvalue=0.0)\n",
      "\n"
     ]
    }
   ],
   "source": [
    "print(\n",
    "\"Спирмен: \",\n",
    "spearmanr(merged['predicted_place_in_tournament'], \n",
    "          merged['Actual_place_in_tournament']), \"\\n\",\n",
    "\"Кендалл: \",\n",
    "kendalltau(merged['predicted_place_in_tournament'], \n",
    "          merged['Actual_place_in_tournament']), \"\\n\"\n",
    ", sep=\"\")"
   ]
  },
  {
   "cell_type": "markdown",
   "metadata": {},
   "source": [
    "## Предсказание по EM-алгоритму"
   ]
  },
  {
   "cell_type": "markdown",
   "metadata": {},
   "source": [
    "Для EM-алгоритма используем альтернативный подход для обработки данных - будем обучать логистическую регрессию в пространстве бинарных признаков вида игрок-вопрос. Этот подход требует переобучать модель каждый раз при добавлении новой команды/игрока, поэтому в baseline-модели он не использовался."
   ]
  },
  {
   "cell_type": "markdown",
   "metadata": {},
   "source": [
    "В качестве скрытой переменной z будем использовать переменную с бинарными значениями [0, 1] для каждой пары игрок-вопрос определяемую следующим образом:\n",
    "- z = 0 если никто из команды этого игрока (включая самого игрока) не ответил на вопрос\n",
    "- z = 1 если есть хотя бы один игрок в команде ответившил на этот вопрос\n",
    "\n",
    "Следовательно, на E-шаге считаем ожидание E[z], считая что $P(z_{iq}=1) = \\frac{\\sigma(x)}{1 - \\prod_{j\\in{team}}{(1 - \\sigma(x))}}$"
   ]
  },
  {
   "cell_type": "markdown",
   "metadata": {},
   "source": [
    "### Предобработка для EM-алгоритма"
   ]
  },
  {
   "cell_type": "code",
   "execution_count": 33,
   "metadata": {
    "ExecuteTime": {
     "end_time": "2021-04-10T22:59:11.511773Z",
     "start_time": "2021-04-10T22:57:55.883131Z"
    }
   },
   "outputs": [
    {
     "name": "stdout",
     "output_type": "stream",
     "text": [
      "Wall time: 1min 15s\n"
     ]
    }
   ],
   "source": [
    "%%time\n",
    "START_MIN_QUESTION_NUMBER = 1000\n",
    "\n",
    "def get_tournaments_id_for_year(year, tournaments, results):\n",
    "    this_year_tournaments = [value for key, value in tournaments.items() if value['dateStart'][:4] == str(year)]\n",
    "    tournaments_needed = [i for i in this_year_tournaments \\\n",
    "                          if i['id'] in results and results[i['id']] != [] and 'mask' in results[i['id']][0]]\n",
    "    return [i['id'] for i in tournaments_needed]\n",
    "\n",
    "def create_table(tournament_ids, results):\n",
    "    for_table = []\n",
    "    global_question_id = 0\n",
    "    \n",
    "    for t_id, t_data in results.items():\n",
    "        if t_id in tournament_ids:\n",
    "            min_number_of_questions = START_MIN_QUESTION_NUMBER\n",
    "            for team in t_data:\n",
    "                if 'mask' in team and team['mask'] != None:\n",
    "                    if len(team['mask']) < min_number_of_questions:\n",
    "                        min_number_of_questions = len(team['mask'])\n",
    "            \n",
    "            for team in t_data:\n",
    "                if 'mask' in team and team['mask'] != None:\n",
    "                    q_answered = 0\n",
    "                    for answer in str(team['mask']):\n",
    "                        if answer in ['0', '1']:\n",
    "                            q_answered += int(answer)\n",
    "                    \n",
    "                    team_id = team['team']['id']\n",
    "                    for member in team['teamMembers']:\n",
    "                        member_id = member['player']['id']\n",
    "                        for question_num in range(min_number_of_questions):\n",
    "                            answer = team['mask'][question_num]\n",
    "                            if answer in ['0', '1']:\n",
    "                                for_table.append([t_id, \n",
    "                                                  team_id, \n",
    "                                                  member_id, \n",
    "                                                  question_num,\n",
    "                                                  int(answer),\n",
    "                                                  q_answered,\n",
    "                                                  global_question_id + question_num])\n",
    "                \n",
    "            # для каждого турнира добавить число использованных вопросов для global_question_id\n",
    "            global_question_id += min_number_of_questions\n",
    "                                \n",
    "    return pd.DataFrame(for_table, columns=['tournament_id', 'team_id', 'member_id', \n",
    "                                            'q_num', 'answer', 'q_answered',\n",
    "                                            'global_question_id'])\n",
    "\n",
    "with open(\"tournaments.pkl\", 'rb') as f:\n",
    "    tournaments = pickle.load(f)\n",
    "    \n",
    "with open(\"results.pkl\", 'rb') as f:\n",
    "    results = pickle.load(f)\n",
    "\n",
    "train_tournaments_ids =  get_tournaments_id_for_year(2019, tournaments, results)\n",
    "test_tournaments_ids =  get_tournaments_id_for_year(2020, tournaments, results)\n",
    "\n",
    "train_df = create_table(train_tournaments_ids, results)\n",
    "test_df = create_table(test_tournaments_ids, results)\n",
    "del results\n",
    "del tournaments"
   ]
  },
  {
   "cell_type": "code",
   "execution_count": 34,
   "metadata": {
    "ExecuteTime": {
     "end_time": "2021-04-10T22:59:16.833801Z",
     "start_time": "2021-04-10T22:59:11.512770Z"
    }
   },
   "outputs": [],
   "source": [
    "# сделать X_train, y_train\n",
    "from sklearn.preprocessing import OneHotEncoder\n",
    "one_hot_enc = OneHotEncoder(handle_unknown='ignore')\n",
    "X_train = one_hot_enc.fit_transform(train_df[['member_id', 'global_question_id']])\n",
    "y_train = np.array(train_df['answer'], dtype=np.int32)\n",
    "train_feature_names = one_hot_enc.get_feature_names()"
   ]
  },
  {
   "cell_type": "code",
   "execution_count": 35,
   "metadata": {
    "ExecuteTime": {
     "end_time": "2021-04-10T22:59:18.397581Z",
     "start_time": "2021-04-10T22:59:16.834614Z"
    }
   },
   "outputs": [],
   "source": [
    "# сделать X_test, y_test\n",
    "X_test = one_hot_enc.transform(test_df[['member_id', 'global_question_id']])\n",
    "y_test = np.array(test_df['answer'], dtype=np.int32)"
   ]
  },
  {
   "cell_type": "code",
   "execution_count": 36,
   "metadata": {
    "ExecuteTime": {
     "end_time": "2021-04-10T22:59:18.404594Z",
     "start_time": "2021-04-10T22:59:18.398579Z"
    }
   },
   "outputs": [
    {
     "data": {
      "text/plain": [
       "90909"
      ]
     },
     "execution_count": 36,
     "metadata": {},
     "output_type": "execute_result"
    }
   ],
   "source": [
    "len(one_hot_enc.categories_[0]) + len(one_hot_enc.categories_[1])"
   ]
  },
  {
   "cell_type": "code",
   "execution_count": 37,
   "metadata": {
    "ExecuteTime": {
     "end_time": "2021-04-10T22:59:21.703925Z",
     "start_time": "2021-04-10T22:59:18.406606Z"
    }
   },
   "outputs": [
    {
     "data": {
      "text/plain": [
       "(17913374, 2)"
      ]
     },
     "execution_count": 37,
     "metadata": {},
     "output_type": "execute_result"
    }
   ],
   "source": [
    "# игрок X вопрос\n",
    "train_df[['member_id', 'global_question_id']].drop_duplicates().shape"
   ]
  },
  {
   "cell_type": "markdown",
   "metadata": {},
   "source": [
    "### EM - алгоритм (реализация)"
   ]
  },
  {
   "cell_type": "code",
   "execution_count": 38,
   "metadata": {
    "ExecuteTime": {
     "end_time": "2021-04-10T22:59:21.708897Z",
     "start_time": "2021-04-10T22:59:21.704916Z"
    }
   },
   "outputs": [],
   "source": [
    "import logging\n",
    "\n",
    "def create_logger():\n",
    "    logger = logging.getLogger(\"my_logger\")\n",
    "    logger.setLevel(logging.DEBUG)\n",
    "    logger.handlers = []\n",
    "    formatter = logging.Formatter('%(levelname)s - %(message)s')\n",
    "    handler = logging.StreamHandler()\n",
    "    handler.setFormatter(formatter)\n",
    "    logger.addHandler(handler)\n",
    "    return logger\n",
    "\n",
    "logger = create_logger()"
   ]
  },
  {
   "cell_type": "code",
   "execution_count": 39,
   "metadata": {
    "ExecuteTime": {
     "end_time": "2021-04-10T22:59:21.725816Z",
     "start_time": "2021-04-10T22:59:21.710855Z"
    }
   },
   "outputs": [
    {
     "name": "stdout",
     "output_type": "stream",
     "text": [
      "Wall time: 0 ns\n"
     ]
    }
   ],
   "source": [
    "%%time\n",
    "\n",
    "logger.setLevel(logging.INFO)\n",
    "\n",
    "class EM:\n",
    "    def __init__(self, learning_rate = 1, iterations = 10):\n",
    "        self.learning_rate = learning_rate\n",
    "        self.iterations = iterations\n",
    "    \n",
    "    def _get_question_probability(self, q_id):\n",
    "        row_num = q_id\n",
    "        result = expit(self.X[row_num] @ self.W + self.b)[0][0]\n",
    "        return result\n",
    "    \n",
    "    def _E_step(self, data):\n",
    "        self.team_results.loc[:, 'question_prob'] = self.team_results.apply(lambda x: \\\n",
    "                                                        self._get_question_probability(x['global_question_id']), \n",
    "                                                                       axis=1\n",
    "                                                                        )\n",
    "        # аггрегация по команде\n",
    "        self.team_results.loc[:, 'team_prob'] =  self.team_results.groupby(['team_id', \n",
    "                                                                          'global_question_id'])['question_prob'].\\\n",
    "            transform(lambda x: np.prod(1 - x))\n",
    "        self.team_results.loc[:, 'team_prob'] = self.team_results.groupby('team_prob').apply(lambda x: 1 - x)\n",
    "        \n",
    "        self.Z = (self.team_results['question_prob'] / self.team_results['team_prob']).to_numpy()\n",
    "        self.Z[self.Y == 0] = 0    \n",
    "        logger.debug(\"E-step done\")\n",
    "        \n",
    "    def _M_step(self):\n",
    "        A = expit(self.X.dot(self.W) + self.b) \n",
    "        tmp = (A - self.Z.T.reshape(A.shape)).reshape(-1, 1)\n",
    "        \n",
    "        dW = (self.X.T @ tmp) / self.n_records\n",
    "        db = np.sum(tmp) / self.n_records\n",
    "        \n",
    "        self.W = self.W - self.learning_rate * dW    \n",
    "        self.b = self.b - self.learning_rate * db\n",
    "        logger.debug(\"M-step done\")\n",
    "        \n",
    "        \n",
    "    def fit(self, X, Y, data):\n",
    "        self.n_records, self.n_features = X.shape\n",
    "        \n",
    "        self.W = np.zeros(self.n_features).reshape(-1, 1)\n",
    "        self.b = 0\n",
    "        self.X, self.Y, self.Z = X, Y, Y\n",
    "        \n",
    "        self.team_results = pd.DataFrame({'team_id': data['team_id'], \n",
    "                                          'global_question_id': data['global_question_id']\n",
    "                                         })\n",
    "        self.team_results['q_prob'] = self.Y\n",
    "        self.team_results['t_prob'] = self.Y\n",
    "        data['Z'] = self.Z\n",
    "        \n",
    "        for _ in range(self.iterations):\n",
    "            self._E_step(data)\n",
    "            self._M_step()\n",
    "            logger.info(f\"%s iterations done\", _)\n",
    "            \n",
    "    def predict(self, X) :    \n",
    "        temp = expit(X @ self.W + self.b)\n",
    "        y_pred = np.where(temp > 0.5, 1, 0 )           \n",
    "        return y_pred\n",
    "    \n",
    "    def predict_prob(self, X):\n",
    "        return expit(X @ self.W + self.b)  "
   ]
  },
  {
   "cell_type": "code",
   "execution_count": 51,
   "metadata": {
    "ExecuteTime": {
     "end_time": "2021-04-10T15:06:22.861849Z",
     "start_time": "2021-04-10T15:03:35.941316Z"
    }
   },
   "outputs": [
    {
     "name": "stderr",
     "output_type": "stream",
     "text": [
      "INFO - 0 iterations done\n",
      "INFO - 1 iterations done\n",
      "INFO - 2 iterations done\n",
      "INFO - 3 iterations done\n",
      "INFO - 4 iterations done\n",
      "INFO - 5 iterations done\n",
      "INFO - 6 iterations done\n",
      "INFO - 7 iterations done\n",
      "INFO - 8 iterations done\n",
      "INFO - 9 iterations done\n"
     ]
    },
    {
     "name": "stdout",
     "output_type": "stream",
     "text": [
      "Wall time: 2min 46s\n"
     ]
    }
   ],
   "source": [
    "%%time\n",
    "# попробуем обучить модель на небольшой выборке из данных\n",
    "n_sample = 100_000\n",
    "toy_X = X_train[:n_sample].copy()\n",
    "toy_y = y_train[:n_sample].copy()\n",
    "toy_train_df = train_df.head(n_sample).copy()\n",
    "\n",
    "em = EM(iterations=10)\n",
    "\n",
    "em.fit(toy_X, toy_y, toy_train_df)"
   ]
  },
  {
   "cell_type": "code",
   "execution_count": 52,
   "metadata": {
    "ExecuteTime": {
     "end_time": "2021-04-10T15:06:22.957448Z",
     "start_time": "2021-04-10T15:06:22.863666Z"
    }
   },
   "outputs": [],
   "source": [
    "y_pred = em.predict_prob(X_test)"
   ]
  },
  {
   "cell_type": "markdown",
   "metadata": {
    "ExecuteTime": {
     "end_time": "2021-04-10T11:57:31.257237Z",
     "start_time": "2021-04-10T11:57:31.252251Z"
    }
   },
   "source": [
    "### EM-алгоритм (проверка)\n"
   ]
  },
  {
   "cell_type": "code",
   "execution_count": 53,
   "metadata": {
    "ExecuteTime": {
     "end_time": "2021-04-10T15:06:23.255671Z",
     "start_time": "2021-04-10T15:06:22.958414Z"
    }
   },
   "outputs": [],
   "source": [
    "# реальные результаты команды на турнире\n",
    "actual_results = test_df.groupby(['tournament_id', 'team_id']).answer.mean().reset_index().rename(columns={'answer': \n",
    "                                                                                         'actual'})\n",
    "actual_results = actual_results.sort_values(by=['tournament_id', 'actual'], ascending=[True, False])\n",
    "actual_results.loc[:, 'actual_place'] = actual_results.groupby(['tournament_id']).actual.cumcount() + 1"
   ]
  },
  {
   "cell_type": "code",
   "execution_count": 54,
   "metadata": {
    "ExecuteTime": {
     "end_time": "2021-04-10T15:06:23.314679Z",
     "start_time": "2021-04-10T15:06:23.256649Z"
    }
   },
   "outputs": [],
   "source": [
    "# определим силу игроков\n",
    "player_force_dict = {int(key.replace(\"x0_\", \"\")): value[0] for key, value in zip(train_feature_names, em.W) if 'x0_' in key}"
   ]
  },
  {
   "cell_type": "code",
   "execution_count": 55,
   "metadata": {
    "ExecuteTime": {
     "end_time": "2021-04-10T15:06:24.255168Z",
     "start_time": "2021-04-10T15:06:23.315719Z"
    }
   },
   "outputs": [
    {
     "data": {
      "text/html": [
       "<h3> Результаты обучения на небольшой части данных по датасету игрок-вопрос:"
      ],
      "text/plain": [
       "<IPython.core.display.HTML object>"
      ]
     },
     "metadata": {},
     "output_type": "display_data"
    },
    {
     "name": "stdout",
     "output_type": "stream",
     "text": [
      "Спирмен: SpearmanrResult(correlation=0.6907987358231241, pvalue=0.0)\n",
      "Кендалл: KendalltauResult(correlation=0.5159134441629591, pvalue=0.0)\n",
      "\n"
     ]
    }
   ],
   "source": [
    "# предсказанные результаты команды на турнире\n",
    "predicted_results = test_df.assign(player_force=test_df['member_id'].map(player_force_dict))\n",
    "predicted_results = predicted_results.loc[predicted_results.player_force.notna()]\n",
    "\n",
    "predicted_results = predicted_results.groupby(['tournament_id', 'team_id'])\\\n",
    ".player_force.max().reset_index().rename(columns={\"player_force\": 'predicted'})\n",
    "\n",
    "predicted_results = predicted_results.sort_values(by=['tournament_id', 'predicted'], ascending=[True, False])\n",
    "predicted_results.loc[:, 'predicted_place'] = predicted_results.groupby(['tournament_id']).predicted.cumcount() + 1\n",
    "\n",
    "# сравнение\n",
    "to_compare = \\\n",
    "pd.merge(actual_results[['tournament_id', 'team_id', 'actual_place']],\n",
    "         predicted_results[['tournament_id', 'team_id', 'predicted_place']],\n",
    "         how='inner', \n",
    "        left_on = ['tournament_id', 'team_id'],\n",
    "        right_on = ['tournament_id', 'team_id']\n",
    "        )\n",
    "\n",
    "display(HTML(\"<h3> Результаты обучения на небольшой части данных по датасету игрок-вопрос:\"))\n",
    "print(\n",
    "\"Спирмен: \",\n",
    "spearmanr(to_compare['predicted_place'], \n",
    "          to_compare['actual_place']), \"\\n\",\n",
    "\"Кендалл: \",\n",
    "kendalltau(to_compare['predicted_place'], \n",
    "          to_compare['actual_place']), \"\\n\"\n",
    ", sep=\"\")"
   ]
  },
  {
   "cell_type": "markdown",
   "metadata": {},
   "source": [
    "## Рейтинг-лист турниров по сложности вопросов"
   ]
  },
  {
   "cell_type": "markdown",
   "metadata": {},
   "source": [
    "Строим на основании EM - модели"
   ]
  },
  {
   "cell_type": "code",
   "execution_count": 56,
   "metadata": {
    "ExecuteTime": {
     "end_time": "2021-04-10T15:06:24.302074Z",
     "start_time": "2021-04-10T15:06:24.257195Z"
    }
   },
   "outputs": [],
   "source": [
    "question_complexity_dict = {int(key.replace(\"x1_\", \"\")): value[0] for key, value in zip(train_feature_names, em.W) \n",
    "                            if 'x1_' in key\n",
    "                           }"
   ]
  },
  {
   "cell_type": "code",
   "execution_count": 57,
   "metadata": {
    "ExecuteTime": {
     "end_time": "2021-04-10T15:06:25.194656Z",
     "start_time": "2021-04-10T15:06:24.303039Z"
    }
   },
   "outputs": [],
   "source": [
    "to_check = train_df.assign(q_complexity = train_df['global_question_id'].map(question_complexity_dict)\n",
    "               )"
   ]
  },
  {
   "cell_type": "code",
   "execution_count": 58,
   "metadata": {
    "ExecuteTime": {
     "end_time": "2021-04-10T15:06:25.766161Z",
     "start_time": "2021-04-10T15:06:25.196660Z"
    }
   },
   "outputs": [],
   "source": [
    "top_10 = to_check.groupby('tournament_id').q_complexity.mean().sort_values(ascending=False).head(10).index\n",
    "last_10 = to_check.groupby('tournament_id').q_complexity.mean().sort_values(ascending=True).head(10).index"
   ]
  },
  {
   "cell_type": "code",
   "execution_count": 59,
   "metadata": {
    "ExecuteTime": {
     "end_time": "2021-04-10T15:06:25.805223Z",
     "start_time": "2021-04-10T15:06:25.767127Z"
    }
   },
   "outputs": [],
   "source": [
    "with open(\"tournaments.pkl\", 'rb') as f:\n",
    "    tournaments_data = pickle.load(f)"
   ]
  },
  {
   "cell_type": "code",
   "execution_count": 60,
   "metadata": {
    "ExecuteTime": {
     "end_time": "2021-04-10T15:06:25.811235Z",
     "start_time": "2021-04-10T15:06:25.806223Z"
    }
   },
   "outputs": [
    {
     "data": {
      "text/html": [
       "<h3> Топ 10 турниров по сложности вопросов:"
      ],
      "text/plain": [
       "<IPython.core.display.HTML object>"
      ]
     },
     "metadata": {},
     "output_type": "display_data"
    },
    {
     "name": "stdout",
     "output_type": "stream",
     "text": [
      "ОВСЧ\n",
      "36 мгновений весны в ЛЭТИ\n",
      "Зеркало финала ОЧВР\n",
      "Финал ОЧВР\n",
      "Гран-при Текстильной столицы\n",
      "Летний Синхронный Умлаут\n",
      "Синхрон Моносова\n",
      "Чемпионат Минска. Лига А. Тур четвёртый\n",
      "Кубок Космонавтики\n",
      "Зимний Братский Кубок \"От Винта\"\n"
     ]
    }
   ],
   "source": [
    "display(HTML(\"<h3> Топ 10 турниров по сложности вопросов:\"))\n",
    "for t_id in top_10:\n",
    "    print(tournaments_data[t_id]['name'])"
   ]
  },
  {
   "cell_type": "code",
   "execution_count": 61,
   "metadata": {
    "ExecuteTime": {
     "end_time": "2021-04-10T15:06:25.819189Z",
     "start_time": "2021-04-10T15:06:25.813206Z"
    }
   },
   "outputs": [
    {
     "data": {
      "text/html": [
       "<h3> Топ 10 турниров по простоте вопросов:"
      ],
      "text/plain": [
       "<IPython.core.display.HTML object>"
      ]
     },
     "metadata": {},
     "output_type": "display_data"
    },
    {
     "name": "stdout",
     "output_type": "stream",
     "text": [
      "Синхрон северных стран. Зимний выпуск\n",
      "Балтийский Берег. 3 игра\n",
      "Белые ночи. The Best\n",
      "Кубок княгини Ольги среди школьников\n",
      "Открытый кубок МГУ\n",
      "Блаженный Августинер\n",
      "Кубок Москвы\n",
      "Кубок Хэллоуина\n",
      "Третья октава\n",
      "Вторая октава\n"
     ]
    }
   ],
   "source": [
    "display(HTML(\"<h3> Топ 10 турниров по простоте вопросов:\"))\n",
    "for t_id in last_10:\n",
    "    print(tournaments_data[t_id]['name'])"
   ]
  },
  {
   "cell_type": "code",
   "execution_count": null,
   "metadata": {},
   "outputs": [],
   "source": []
  }
 ],
 "metadata": {
  "hide_input": false,
  "kernelspec": {
   "display_name": "Python 3",
   "language": "python",
   "name": "python3"
  },
  "language_info": {
   "codemirror_mode": {
    "name": "ipython",
    "version": 3
   },
   "file_extension": ".py",
   "mimetype": "text/x-python",
   "name": "python",
   "nbconvert_exporter": "python",
   "pygments_lexer": "ipython3",
   "version": "3.7.6"
  },
  "toc": {
   "base_numbering": 1,
   "nav_menu": {
    "height": "358px",
    "width": "626px"
   },
   "number_sections": true,
   "sideBar": true,
   "skip_h1_title": false,
   "title_cell": "Table of Contents",
   "title_sidebar": "Contents",
   "toc_cell": false,
   "toc_position": {
    "height": "calc(100% - 180px)",
    "left": "10px",
    "top": "150px",
    "width": "232.2px"
   },
   "toc_section_display": true,
   "toc_window_display": true
  },
  "varInspector": {
   "cols": {
    "lenName": 16,
    "lenType": 16,
    "lenVar": 40
   },
   "kernels_config": {
    "python": {
     "delete_cmd_postfix": "",
     "delete_cmd_prefix": "del ",
     "library": "var_list.py",
     "varRefreshCmd": "print(var_dic_list())"
    },
    "r": {
     "delete_cmd_postfix": ") ",
     "delete_cmd_prefix": "rm(",
     "library": "var_list.r",
     "varRefreshCmd": "cat(var_dic_list()) "
    }
   },
   "position": {
    "height": "521.4px",
    "left": "1169px",
    "right": "20px",
    "top": "120px",
    "width": "347px"
   },
   "types_to_exclude": [
    "module",
    "function",
    "builtin_function_or_method",
    "instance",
    "_Feature"
   ],
   "window_display": false
  }
 },
 "nbformat": 4,
 "nbformat_minor": 4
}
